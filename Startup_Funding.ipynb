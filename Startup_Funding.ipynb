{
  "nbformat": 4,
  "nbformat_minor": 0,
  "metadata": {
    "colab": {
      "provenance": []
    },
    "kernelspec": {
      "name": "python3",
      "display_name": "Python 3"
    },
    "language_info": {
      "name": "python"
    }
  },
  "cells": [
    {
      "cell_type": "code",
      "execution_count": 100,
      "metadata": {
        "id": "nO24IMUpNSfY"
      },
      "outputs": [],
      "source": [
        "import pandas as pd\n",
        "import numpy as np"
      ]
    },
    {
      "cell_type": "code",
      "source": [
        "df = pd.read_csv('startup_funding.csv')\n"
      ],
      "metadata": {
        "id": "W_VeKxJdNryM"
      },
      "execution_count": 101,
      "outputs": []
    },
    {
      "cell_type": "code",
      "source": [
        "df.head()"
      ],
      "metadata": {
        "colab": {
          "base_uri": "https://localhost:8080/",
          "height": 400
        },
        "id": "aee7Pm-XNwml",
        "outputId": "f41af5ba-80bb-4454-9ac1-5c40d9e9f8c9"
      },
      "execution_count": 102,
      "outputs": [
        {
          "output_type": "execute_result",
          "data": {
            "text/plain": [
              "   Sr No Date dd/mm/yyyy                  Startup Name    Industry Vertical  \\\n",
              "0      1      09/01/2020                        BYJU’S               E-Tech   \n",
              "1      2      13/01/2020                        Shuttl       Transportation   \n",
              "2      3      09/01/2020                     Mamaearth           E-commerce   \n",
              "3      4      02/01/2020  https://www.wealthbucket.in/              FinTech   \n",
              "4      5      02/01/2020                        Fashor  Fashion and Apparel   \n",
              "\n",
              "                             SubVertical City  Location  \\\n",
              "0                             E-learning      Bengaluru   \n",
              "1              App based shuttle service        Gurgaon   \n",
              "2  Retailer of baby and toddler products      Bengaluru   \n",
              "3                      Online Investment      New Delhi   \n",
              "4            Embroiled Clothes For Women         Mumbai   \n",
              "\n",
              "              Investors Name       InvestmentnType Amount in USD Remarks  \n",
              "0    Tiger Global Management  Private Equity Round  20,00,00,000     NaN  \n",
              "1  Susquehanna Growth Equity              Series C     80,48,394     NaN  \n",
              "2      Sequoia Capital India              Series B   1,83,58,860     NaN  \n",
              "3             Vinod Khatumal          Pre-series A     30,00,000     NaN  \n",
              "4    Sprout Venture Partners            Seed Round     18,00,000     NaN  "
            ],
            "text/html": [
              "\n",
              "  <div id=\"df-5b051be1-5f63-465b-8dfc-b4d14edd83d2\" class=\"colab-df-container\">\n",
              "    <div>\n",
              "<style scoped>\n",
              "    .dataframe tbody tr th:only-of-type {\n",
              "        vertical-align: middle;\n",
              "    }\n",
              "\n",
              "    .dataframe tbody tr th {\n",
              "        vertical-align: top;\n",
              "    }\n",
              "\n",
              "    .dataframe thead th {\n",
              "        text-align: right;\n",
              "    }\n",
              "</style>\n",
              "<table border=\"1\" class=\"dataframe\">\n",
              "  <thead>\n",
              "    <tr style=\"text-align: right;\">\n",
              "      <th></th>\n",
              "      <th>Sr No</th>\n",
              "      <th>Date dd/mm/yyyy</th>\n",
              "      <th>Startup Name</th>\n",
              "      <th>Industry Vertical</th>\n",
              "      <th>SubVertical</th>\n",
              "      <th>City  Location</th>\n",
              "      <th>Investors Name</th>\n",
              "      <th>InvestmentnType</th>\n",
              "      <th>Amount in USD</th>\n",
              "      <th>Remarks</th>\n",
              "    </tr>\n",
              "  </thead>\n",
              "  <tbody>\n",
              "    <tr>\n",
              "      <th>0</th>\n",
              "      <td>1</td>\n",
              "      <td>09/01/2020</td>\n",
              "      <td>BYJU’S</td>\n",
              "      <td>E-Tech</td>\n",
              "      <td>E-learning</td>\n",
              "      <td>Bengaluru</td>\n",
              "      <td>Tiger Global Management</td>\n",
              "      <td>Private Equity Round</td>\n",
              "      <td>20,00,00,000</td>\n",
              "      <td>NaN</td>\n",
              "    </tr>\n",
              "    <tr>\n",
              "      <th>1</th>\n",
              "      <td>2</td>\n",
              "      <td>13/01/2020</td>\n",
              "      <td>Shuttl</td>\n",
              "      <td>Transportation</td>\n",
              "      <td>App based shuttle service</td>\n",
              "      <td>Gurgaon</td>\n",
              "      <td>Susquehanna Growth Equity</td>\n",
              "      <td>Series C</td>\n",
              "      <td>80,48,394</td>\n",
              "      <td>NaN</td>\n",
              "    </tr>\n",
              "    <tr>\n",
              "      <th>2</th>\n",
              "      <td>3</td>\n",
              "      <td>09/01/2020</td>\n",
              "      <td>Mamaearth</td>\n",
              "      <td>E-commerce</td>\n",
              "      <td>Retailer of baby and toddler products</td>\n",
              "      <td>Bengaluru</td>\n",
              "      <td>Sequoia Capital India</td>\n",
              "      <td>Series B</td>\n",
              "      <td>1,83,58,860</td>\n",
              "      <td>NaN</td>\n",
              "    </tr>\n",
              "    <tr>\n",
              "      <th>3</th>\n",
              "      <td>4</td>\n",
              "      <td>02/01/2020</td>\n",
              "      <td>https://www.wealthbucket.in/</td>\n",
              "      <td>FinTech</td>\n",
              "      <td>Online Investment</td>\n",
              "      <td>New Delhi</td>\n",
              "      <td>Vinod Khatumal</td>\n",
              "      <td>Pre-series A</td>\n",
              "      <td>30,00,000</td>\n",
              "      <td>NaN</td>\n",
              "    </tr>\n",
              "    <tr>\n",
              "      <th>4</th>\n",
              "      <td>5</td>\n",
              "      <td>02/01/2020</td>\n",
              "      <td>Fashor</td>\n",
              "      <td>Fashion and Apparel</td>\n",
              "      <td>Embroiled Clothes For Women</td>\n",
              "      <td>Mumbai</td>\n",
              "      <td>Sprout Venture Partners</td>\n",
              "      <td>Seed Round</td>\n",
              "      <td>18,00,000</td>\n",
              "      <td>NaN</td>\n",
              "    </tr>\n",
              "  </tbody>\n",
              "</table>\n",
              "</div>\n",
              "    <div class=\"colab-df-buttons\">\n",
              "\n",
              "  <div class=\"colab-df-container\">\n",
              "    <button class=\"colab-df-convert\" onclick=\"convertToInteractive('df-5b051be1-5f63-465b-8dfc-b4d14edd83d2')\"\n",
              "            title=\"Convert this dataframe to an interactive table.\"\n",
              "            style=\"display:none;\">\n",
              "\n",
              "  <svg xmlns=\"http://www.w3.org/2000/svg\" height=\"24px\" viewBox=\"0 -960 960 960\">\n",
              "    <path d=\"M120-120v-720h720v720H120Zm60-500h600v-160H180v160Zm220 220h160v-160H400v160Zm0 220h160v-160H400v160ZM180-400h160v-160H180v160Zm440 0h160v-160H620v160ZM180-180h160v-160H180v160Zm440 0h160v-160H620v160Z\"/>\n",
              "  </svg>\n",
              "    </button>\n",
              "\n",
              "  <style>\n",
              "    .colab-df-container {\n",
              "      display:flex;\n",
              "      gap: 12px;\n",
              "    }\n",
              "\n",
              "    .colab-df-convert {\n",
              "      background-color: #E8F0FE;\n",
              "      border: none;\n",
              "      border-radius: 50%;\n",
              "      cursor: pointer;\n",
              "      display: none;\n",
              "      fill: #1967D2;\n",
              "      height: 32px;\n",
              "      padding: 0 0 0 0;\n",
              "      width: 32px;\n",
              "    }\n",
              "\n",
              "    .colab-df-convert:hover {\n",
              "      background-color: #E2EBFA;\n",
              "      box-shadow: 0px 1px 2px rgba(60, 64, 67, 0.3), 0px 1px 3px 1px rgba(60, 64, 67, 0.15);\n",
              "      fill: #174EA6;\n",
              "    }\n",
              "\n",
              "    .colab-df-buttons div {\n",
              "      margin-bottom: 4px;\n",
              "    }\n",
              "\n",
              "    [theme=dark] .colab-df-convert {\n",
              "      background-color: #3B4455;\n",
              "      fill: #D2E3FC;\n",
              "    }\n",
              "\n",
              "    [theme=dark] .colab-df-convert:hover {\n",
              "      background-color: #434B5C;\n",
              "      box-shadow: 0px 1px 3px 1px rgba(0, 0, 0, 0.15);\n",
              "      filter: drop-shadow(0px 1px 2px rgba(0, 0, 0, 0.3));\n",
              "      fill: #FFFFFF;\n",
              "    }\n",
              "  </style>\n",
              "\n",
              "    <script>\n",
              "      const buttonEl =\n",
              "        document.querySelector('#df-5b051be1-5f63-465b-8dfc-b4d14edd83d2 button.colab-df-convert');\n",
              "      buttonEl.style.display =\n",
              "        google.colab.kernel.accessAllowed ? 'block' : 'none';\n",
              "\n",
              "      async function convertToInteractive(key) {\n",
              "        const element = document.querySelector('#df-5b051be1-5f63-465b-8dfc-b4d14edd83d2');\n",
              "        const dataTable =\n",
              "          await google.colab.kernel.invokeFunction('convertToInteractive',\n",
              "                                                    [key], {});\n",
              "        if (!dataTable) return;\n",
              "\n",
              "        const docLinkHtml = 'Like what you see? Visit the ' +\n",
              "          '<a target=\"_blank\" href=https://colab.research.google.com/notebooks/data_table.ipynb>data table notebook</a>'\n",
              "          + ' to learn more about interactive tables.';\n",
              "        element.innerHTML = '';\n",
              "        dataTable['output_type'] = 'display_data';\n",
              "        await google.colab.output.renderOutput(dataTable, element);\n",
              "        const docLink = document.createElement('div');\n",
              "        docLink.innerHTML = docLinkHtml;\n",
              "        element.appendChild(docLink);\n",
              "      }\n",
              "    </script>\n",
              "  </div>\n",
              "\n",
              "\n",
              "    <div id=\"df-139c426e-4961-4c77-b079-4777437a7963\">\n",
              "      <button class=\"colab-df-quickchart\" onclick=\"quickchart('df-139c426e-4961-4c77-b079-4777437a7963')\"\n",
              "                title=\"Suggest charts\"\n",
              "                style=\"display:none;\">\n",
              "\n",
              "<svg xmlns=\"http://www.w3.org/2000/svg\" height=\"24px\"viewBox=\"0 0 24 24\"\n",
              "     width=\"24px\">\n",
              "    <g>\n",
              "        <path d=\"M19 3H5c-1.1 0-2 .9-2 2v14c0 1.1.9 2 2 2h14c1.1 0 2-.9 2-2V5c0-1.1-.9-2-2-2zM9 17H7v-7h2v7zm4 0h-2V7h2v10zm4 0h-2v-4h2v4z\"/>\n",
              "    </g>\n",
              "</svg>\n",
              "      </button>\n",
              "\n",
              "<style>\n",
              "  .colab-df-quickchart {\n",
              "      --bg-color: #E8F0FE;\n",
              "      --fill-color: #1967D2;\n",
              "      --hover-bg-color: #E2EBFA;\n",
              "      --hover-fill-color: #174EA6;\n",
              "      --disabled-fill-color: #AAA;\n",
              "      --disabled-bg-color: #DDD;\n",
              "  }\n",
              "\n",
              "  [theme=dark] .colab-df-quickchart {\n",
              "      --bg-color: #3B4455;\n",
              "      --fill-color: #D2E3FC;\n",
              "      --hover-bg-color: #434B5C;\n",
              "      --hover-fill-color: #FFFFFF;\n",
              "      --disabled-bg-color: #3B4455;\n",
              "      --disabled-fill-color: #666;\n",
              "  }\n",
              "\n",
              "  .colab-df-quickchart {\n",
              "    background-color: var(--bg-color);\n",
              "    border: none;\n",
              "    border-radius: 50%;\n",
              "    cursor: pointer;\n",
              "    display: none;\n",
              "    fill: var(--fill-color);\n",
              "    height: 32px;\n",
              "    padding: 0;\n",
              "    width: 32px;\n",
              "  }\n",
              "\n",
              "  .colab-df-quickchart:hover {\n",
              "    background-color: var(--hover-bg-color);\n",
              "    box-shadow: 0 1px 2px rgba(60, 64, 67, 0.3), 0 1px 3px 1px rgba(60, 64, 67, 0.15);\n",
              "    fill: var(--button-hover-fill-color);\n",
              "  }\n",
              "\n",
              "  .colab-df-quickchart-complete:disabled,\n",
              "  .colab-df-quickchart-complete:disabled:hover {\n",
              "    background-color: var(--disabled-bg-color);\n",
              "    fill: var(--disabled-fill-color);\n",
              "    box-shadow: none;\n",
              "  }\n",
              "\n",
              "  .colab-df-spinner {\n",
              "    border: 2px solid var(--fill-color);\n",
              "    border-color: transparent;\n",
              "    border-bottom-color: var(--fill-color);\n",
              "    animation:\n",
              "      spin 1s steps(1) infinite;\n",
              "  }\n",
              "\n",
              "  @keyframes spin {\n",
              "    0% {\n",
              "      border-color: transparent;\n",
              "      border-bottom-color: var(--fill-color);\n",
              "      border-left-color: var(--fill-color);\n",
              "    }\n",
              "    20% {\n",
              "      border-color: transparent;\n",
              "      border-left-color: var(--fill-color);\n",
              "      border-top-color: var(--fill-color);\n",
              "    }\n",
              "    30% {\n",
              "      border-color: transparent;\n",
              "      border-left-color: var(--fill-color);\n",
              "      border-top-color: var(--fill-color);\n",
              "      border-right-color: var(--fill-color);\n",
              "    }\n",
              "    40% {\n",
              "      border-color: transparent;\n",
              "      border-right-color: var(--fill-color);\n",
              "      border-top-color: var(--fill-color);\n",
              "    }\n",
              "    60% {\n",
              "      border-color: transparent;\n",
              "      border-right-color: var(--fill-color);\n",
              "    }\n",
              "    80% {\n",
              "      border-color: transparent;\n",
              "      border-right-color: var(--fill-color);\n",
              "      border-bottom-color: var(--fill-color);\n",
              "    }\n",
              "    90% {\n",
              "      border-color: transparent;\n",
              "      border-bottom-color: var(--fill-color);\n",
              "    }\n",
              "  }\n",
              "</style>\n",
              "\n",
              "      <script>\n",
              "        async function quickchart(key) {\n",
              "          const quickchartButtonEl =\n",
              "            document.querySelector('#' + key + ' button');\n",
              "          quickchartButtonEl.disabled = true;  // To prevent multiple clicks.\n",
              "          quickchartButtonEl.classList.add('colab-df-spinner');\n",
              "          try {\n",
              "            const charts = await google.colab.kernel.invokeFunction(\n",
              "                'suggestCharts', [key], {});\n",
              "          } catch (error) {\n",
              "            console.error('Error during call to suggestCharts:', error);\n",
              "          }\n",
              "          quickchartButtonEl.classList.remove('colab-df-spinner');\n",
              "          quickchartButtonEl.classList.add('colab-df-quickchart-complete');\n",
              "        }\n",
              "        (() => {\n",
              "          let quickchartButtonEl =\n",
              "            document.querySelector('#df-139c426e-4961-4c77-b079-4777437a7963 button');\n",
              "          quickchartButtonEl.style.display =\n",
              "            google.colab.kernel.accessAllowed ? 'block' : 'none';\n",
              "        })();\n",
              "      </script>\n",
              "    </div>\n",
              "\n",
              "    </div>\n",
              "  </div>\n"
            ],
            "application/vnd.google.colaboratory.intrinsic+json": {
              "type": "dataframe",
              "variable_name": "df",
              "summary": "{\n  \"name\": \"df\",\n  \"rows\": 3044,\n  \"fields\": [\n    {\n      \"column\": \"Sr No\",\n      \"properties\": {\n        \"dtype\": \"number\",\n        \"std\": 878,\n        \"min\": 1,\n        \"max\": 3044,\n        \"num_unique_values\": 3044,\n        \"samples\": [\n          299,\n          2793,\n          140\n        ],\n        \"semantic_type\": \"\",\n        \"description\": \"\"\n      }\n    },\n    {\n      \"column\": \"Date dd/mm/yyyy\",\n      \"properties\": {\n        \"dtype\": \"category\",\n        \"num_unique_values\": 1035,\n        \"samples\": [\n          \"28/10/2017\",\n          \"09/02/2017\",\n          \"17/06/2016\"\n        ],\n        \"semantic_type\": \"\",\n        \"description\": \"\"\n      }\n    },\n    {\n      \"column\": \"Startup Name\",\n      \"properties\": {\n        \"dtype\": \"string\",\n        \"num_unique_values\": 2459,\n        \"samples\": [\n          \"Loadshare\",\n          \"Trupay\",\n          \"Nimble Wireless\"\n        ],\n        \"semantic_type\": \"\",\n        \"description\": \"\"\n      }\n    },\n    {\n      \"column\": \"Industry Vertical\",\n      \"properties\": {\n        \"dtype\": \"category\",\n        \"num_unique_values\": 821,\n        \"samples\": [\n          \"Fine Dining Restaurant Chain\",\n          \"Reward points mobile app\",\n          \"Social Network\"\n        ],\n        \"semantic_type\": \"\",\n        \"description\": \"\"\n      }\n    },\n    {\n      \"column\": \"SubVertical\",\n      \"properties\": {\n        \"dtype\": \"string\",\n        \"num_unique_values\": 1942,\n        \"samples\": [\n          \"Gadget & Appliances Service App\",\n          \"Golf Session Online Bookings platform\",\n          \"Primary care medical network\"\n        ],\n        \"semantic_type\": \"\",\n        \"description\": \"\"\n      }\n    },\n    {\n      \"column\": \"City  Location\",\n      \"properties\": {\n        \"dtype\": \"category\",\n        \"num_unique_values\": 112,\n        \"samples\": [\n          \"Rourkela\",\n          \"Kochi\",\n          \"Chennai\"\n        ],\n        \"semantic_type\": \"\",\n        \"description\": \"\"\n      }\n    },\n    {\n      \"column\": \"Investors Name\",\n      \"properties\": {\n        \"dtype\": \"string\",\n        \"num_unique_values\": 2412,\n        \"samples\": [\n          \"Rocket Internet AG, Holtzbrink Ventures, New Enterprise Associates (NEA), e.ventures, ru-Net, Deutsche Telekom Strategic Investments (DTSI), Silicon Valley Bank\",\n          \"Anand Vijay, Nipun Dureja, Satyajit Heeralal, Keith Rodricks, Gaurav Lochan, Azmul Haque, Nikhil Bagri\",\n          \"Rohit Jain, Amit Rambhia & Others\"\n        ],\n        \"semantic_type\": \"\",\n        \"description\": \"\"\n      }\n    },\n    {\n      \"column\": \"InvestmentnType\",\n      \"properties\": {\n        \"dtype\": \"category\",\n        \"num_unique_values\": 55,\n        \"samples\": [\n          \"Inhouse Funding\",\n          \"Series A\",\n          \"Seed/ Angel Funding\"\n        ],\n        \"semantic_type\": \"\",\n        \"description\": \"\"\n      }\n    },\n    {\n      \"column\": \"Amount in USD\",\n      \"properties\": {\n        \"dtype\": \"category\",\n        \"num_unique_values\": 471,\n        \"samples\": [\n          \"1,60,00,000\",\n          \"2,00,000\",\n          \"50,00,000\"\n        ],\n        \"semantic_type\": \"\",\n        \"description\": \"\"\n      }\n    },\n    {\n      \"column\": \"Remarks\",\n      \"properties\": {\n        \"dtype\": \"category\",\n        \"num_unique_values\": 72,\n        \"samples\": [\n          \"Strategic Funding\",\n          \"Strategic Investment (25% stake)\",\n          \"Late Stage\"\n        ],\n        \"semantic_type\": \"\",\n        \"description\": \"\"\n      }\n    }\n  ]\n}"
            }
          },
          "metadata": {},
          "execution_count": 102
        }
      ]
    },
    {
      "cell_type": "code",
      "source": [
        "df.info()"
      ],
      "metadata": {
        "colab": {
          "base_uri": "https://localhost:8080/"
        },
        "id": "iyD7qGhYNyzc",
        "outputId": "e38dd0cf-d2ce-4806-dae0-c528a52ab6f8"
      },
      "execution_count": 103,
      "outputs": [
        {
          "output_type": "stream",
          "name": "stdout",
          "text": [
            "<class 'pandas.core.frame.DataFrame'>\n",
            "RangeIndex: 3044 entries, 0 to 3043\n",
            "Data columns (total 10 columns):\n",
            " #   Column             Non-Null Count  Dtype \n",
            "---  ------             --------------  ----- \n",
            " 0   Sr No              3044 non-null   int64 \n",
            " 1   Date dd/mm/yyyy    3044 non-null   object\n",
            " 2   Startup Name       3044 non-null   object\n",
            " 3   Industry Vertical  2873 non-null   object\n",
            " 4   SubVertical        2108 non-null   object\n",
            " 5   City  Location     2864 non-null   object\n",
            " 6   Investors Name     3020 non-null   object\n",
            " 7   InvestmentnType    3040 non-null   object\n",
            " 8   Amount in USD      2084 non-null   object\n",
            " 9   Remarks            419 non-null    object\n",
            "dtypes: int64(1), object(9)\n",
            "memory usage: 237.9+ KB\n"
          ]
        }
      ]
    },
    {
      "cell_type": "code",
      "source": [
        "df.shape"
      ],
      "metadata": {
        "colab": {
          "base_uri": "https://localhost:8080/"
        },
        "id": "jW2peX2CN0de",
        "outputId": "21129cc6-9047-478f-ac04-e4951687c163"
      },
      "execution_count": 104,
      "outputs": [
        {
          "output_type": "execute_result",
          "data": {
            "text/plain": [
              "(3044, 10)"
            ]
          },
          "metadata": {},
          "execution_count": 104
        }
      ]
    },
    {
      "cell_type": "code",
      "source": [
        "df.dtypes"
      ],
      "metadata": {
        "colab": {
          "base_uri": "https://localhost:8080/",
          "height": 398
        },
        "id": "eh2gqsrSN2e-",
        "outputId": "4bab78ea-a10c-4a59-dfba-85ea87c590e4"
      },
      "execution_count": 105,
      "outputs": [
        {
          "output_type": "execute_result",
          "data": {
            "text/plain": [
              "Sr No                 int64\n",
              "Date dd/mm/yyyy      object\n",
              "Startup Name         object\n",
              "Industry Vertical    object\n",
              "SubVertical          object\n",
              "City  Location       object\n",
              "Investors Name       object\n",
              "InvestmentnType      object\n",
              "Amount in USD        object\n",
              "Remarks              object\n",
              "dtype: object"
            ],
            "text/html": [
              "<div>\n",
              "<style scoped>\n",
              "    .dataframe tbody tr th:only-of-type {\n",
              "        vertical-align: middle;\n",
              "    }\n",
              "\n",
              "    .dataframe tbody tr th {\n",
              "        vertical-align: top;\n",
              "    }\n",
              "\n",
              "    .dataframe thead th {\n",
              "        text-align: right;\n",
              "    }\n",
              "</style>\n",
              "<table border=\"1\" class=\"dataframe\">\n",
              "  <thead>\n",
              "    <tr style=\"text-align: right;\">\n",
              "      <th></th>\n",
              "      <th>0</th>\n",
              "    </tr>\n",
              "  </thead>\n",
              "  <tbody>\n",
              "    <tr>\n",
              "      <th>Sr No</th>\n",
              "      <td>int64</td>\n",
              "    </tr>\n",
              "    <tr>\n",
              "      <th>Date dd/mm/yyyy</th>\n",
              "      <td>object</td>\n",
              "    </tr>\n",
              "    <tr>\n",
              "      <th>Startup Name</th>\n",
              "      <td>object</td>\n",
              "    </tr>\n",
              "    <tr>\n",
              "      <th>Industry Vertical</th>\n",
              "      <td>object</td>\n",
              "    </tr>\n",
              "    <tr>\n",
              "      <th>SubVertical</th>\n",
              "      <td>object</td>\n",
              "    </tr>\n",
              "    <tr>\n",
              "      <th>City  Location</th>\n",
              "      <td>object</td>\n",
              "    </tr>\n",
              "    <tr>\n",
              "      <th>Investors Name</th>\n",
              "      <td>object</td>\n",
              "    </tr>\n",
              "    <tr>\n",
              "      <th>InvestmentnType</th>\n",
              "      <td>object</td>\n",
              "    </tr>\n",
              "    <tr>\n",
              "      <th>Amount in USD</th>\n",
              "      <td>object</td>\n",
              "    </tr>\n",
              "    <tr>\n",
              "      <th>Remarks</th>\n",
              "      <td>object</td>\n",
              "    </tr>\n",
              "  </tbody>\n",
              "</table>\n",
              "</div><br><label><b>dtype:</b> object</label>"
            ]
          },
          "metadata": {},
          "execution_count": 105
        }
      ]
    },
    {
      "cell_type": "code",
      "source": [
        "df.columns"
      ],
      "metadata": {
        "colab": {
          "base_uri": "https://localhost:8080/"
        },
        "id": "dVh0dF-3N4zg",
        "outputId": "5e9b90bb-a4b0-4cda-f42a-06f6340e4e46"
      },
      "execution_count": 106,
      "outputs": [
        {
          "output_type": "execute_result",
          "data": {
            "text/plain": [
              "Index(['Sr No', 'Date dd/mm/yyyy', 'Startup Name', 'Industry Vertical',\n",
              "       'SubVertical', 'City  Location', 'Investors Name', 'InvestmentnType',\n",
              "       'Amount in USD', 'Remarks'],\n",
              "      dtype='object')"
            ]
          },
          "metadata": {},
          "execution_count": 106
        }
      ]
    },
    {
      "cell_type": "code",
      "source": [
        "df.isnull().sum()"
      ],
      "metadata": {
        "colab": {
          "base_uri": "https://localhost:8080/",
          "height": 398
        },
        "id": "SYk0IZqKOMJf",
        "outputId": "bd86d938-86b9-441f-df7c-0a0fd5c7e080"
      },
      "execution_count": 107,
      "outputs": [
        {
          "output_type": "execute_result",
          "data": {
            "text/plain": [
              "Sr No                   0\n",
              "Date dd/mm/yyyy         0\n",
              "Startup Name            0\n",
              "Industry Vertical     171\n",
              "SubVertical           936\n",
              "City  Location        180\n",
              "Investors Name         24\n",
              "InvestmentnType         4\n",
              "Amount in USD         960\n",
              "Remarks              2625\n",
              "dtype: int64"
            ],
            "text/html": [
              "<div>\n",
              "<style scoped>\n",
              "    .dataframe tbody tr th:only-of-type {\n",
              "        vertical-align: middle;\n",
              "    }\n",
              "\n",
              "    .dataframe tbody tr th {\n",
              "        vertical-align: top;\n",
              "    }\n",
              "\n",
              "    .dataframe thead th {\n",
              "        text-align: right;\n",
              "    }\n",
              "</style>\n",
              "<table border=\"1\" class=\"dataframe\">\n",
              "  <thead>\n",
              "    <tr style=\"text-align: right;\">\n",
              "      <th></th>\n",
              "      <th>0</th>\n",
              "    </tr>\n",
              "  </thead>\n",
              "  <tbody>\n",
              "    <tr>\n",
              "      <th>Sr No</th>\n",
              "      <td>0</td>\n",
              "    </tr>\n",
              "    <tr>\n",
              "      <th>Date dd/mm/yyyy</th>\n",
              "      <td>0</td>\n",
              "    </tr>\n",
              "    <tr>\n",
              "      <th>Startup Name</th>\n",
              "      <td>0</td>\n",
              "    </tr>\n",
              "    <tr>\n",
              "      <th>Industry Vertical</th>\n",
              "      <td>171</td>\n",
              "    </tr>\n",
              "    <tr>\n",
              "      <th>SubVertical</th>\n",
              "      <td>936</td>\n",
              "    </tr>\n",
              "    <tr>\n",
              "      <th>City  Location</th>\n",
              "      <td>180</td>\n",
              "    </tr>\n",
              "    <tr>\n",
              "      <th>Investors Name</th>\n",
              "      <td>24</td>\n",
              "    </tr>\n",
              "    <tr>\n",
              "      <th>InvestmentnType</th>\n",
              "      <td>4</td>\n",
              "    </tr>\n",
              "    <tr>\n",
              "      <th>Amount in USD</th>\n",
              "      <td>960</td>\n",
              "    </tr>\n",
              "    <tr>\n",
              "      <th>Remarks</th>\n",
              "      <td>2625</td>\n",
              "    </tr>\n",
              "  </tbody>\n",
              "</table>\n",
              "</div><br><label><b>dtype:</b> int64</label>"
            ]
          },
          "metadata": {},
          "execution_count": 107
        }
      ]
    },
    {
      "cell_type": "code",
      "source": [
        "df.describe(include='all')\n"
      ],
      "metadata": {
        "colab": {
          "base_uri": "https://localhost:8080/",
          "height": 449
        },
        "id": "eR6pyfZZOSRd",
        "outputId": "bc1062e3-40d3-44f7-9529-9fd2a01f390b"
      },
      "execution_count": 108,
      "outputs": [
        {
          "output_type": "execute_result",
          "data": {
            "text/plain": [
              "              Sr No Date dd/mm/yyyy Startup Name  Industry Vertical  \\\n",
              "count   3044.000000            3044         3044               2873   \n",
              "unique          NaN            1035         2459                821   \n",
              "top             NaN      30/11/2016       Swiggy  Consumer Internet   \n",
              "freq            NaN              11            8                941   \n",
              "mean    1522.500000             NaN          NaN                NaN   \n",
              "std      878.871435             NaN          NaN                NaN   \n",
              "min        1.000000             NaN          NaN                NaN   \n",
              "25%      761.750000             NaN          NaN                NaN   \n",
              "50%     1522.500000             NaN          NaN                NaN   \n",
              "75%     2283.250000             NaN          NaN                NaN   \n",
              "max     3044.000000             NaN          NaN                NaN   \n",
              "\n",
              "                    SubVertical City  Location         Investors Name  \\\n",
              "count                      2108           2864                   3020   \n",
              "unique                     1942            112                   2412   \n",
              "top     Online Lending Platform      Bangalore  Undisclosed Investors   \n",
              "freq                         11            700                     39   \n",
              "mean                        NaN            NaN                    NaN   \n",
              "std                         NaN            NaN                    NaN   \n",
              "min                         NaN            NaN                    NaN   \n",
              "25%                         NaN            NaN                    NaN   \n",
              "50%                         NaN            NaN                    NaN   \n",
              "75%                         NaN            NaN                    NaN   \n",
              "max                         NaN            NaN                    NaN   \n",
              "\n",
              "       InvestmentnType Amount in USD   Remarks  \n",
              "count             3040          2084       419  \n",
              "unique              55           471        72  \n",
              "top     Private Equity     10,00,000  Series A  \n",
              "freq              1356           165       175  \n",
              "mean               NaN           NaN       NaN  \n",
              "std                NaN           NaN       NaN  \n",
              "min                NaN           NaN       NaN  \n",
              "25%                NaN           NaN       NaN  \n",
              "50%                NaN           NaN       NaN  \n",
              "75%                NaN           NaN       NaN  \n",
              "max                NaN           NaN       NaN  "
            ],
            "text/html": [
              "\n",
              "  <div id=\"df-4c297df0-4b08-4616-beee-36df407eec7e\" class=\"colab-df-container\">\n",
              "    <div>\n",
              "<style scoped>\n",
              "    .dataframe tbody tr th:only-of-type {\n",
              "        vertical-align: middle;\n",
              "    }\n",
              "\n",
              "    .dataframe tbody tr th {\n",
              "        vertical-align: top;\n",
              "    }\n",
              "\n",
              "    .dataframe thead th {\n",
              "        text-align: right;\n",
              "    }\n",
              "</style>\n",
              "<table border=\"1\" class=\"dataframe\">\n",
              "  <thead>\n",
              "    <tr style=\"text-align: right;\">\n",
              "      <th></th>\n",
              "      <th>Sr No</th>\n",
              "      <th>Date dd/mm/yyyy</th>\n",
              "      <th>Startup Name</th>\n",
              "      <th>Industry Vertical</th>\n",
              "      <th>SubVertical</th>\n",
              "      <th>City  Location</th>\n",
              "      <th>Investors Name</th>\n",
              "      <th>InvestmentnType</th>\n",
              "      <th>Amount in USD</th>\n",
              "      <th>Remarks</th>\n",
              "    </tr>\n",
              "  </thead>\n",
              "  <tbody>\n",
              "    <tr>\n",
              "      <th>count</th>\n",
              "      <td>3044.000000</td>\n",
              "      <td>3044</td>\n",
              "      <td>3044</td>\n",
              "      <td>2873</td>\n",
              "      <td>2108</td>\n",
              "      <td>2864</td>\n",
              "      <td>3020</td>\n",
              "      <td>3040</td>\n",
              "      <td>2084</td>\n",
              "      <td>419</td>\n",
              "    </tr>\n",
              "    <tr>\n",
              "      <th>unique</th>\n",
              "      <td>NaN</td>\n",
              "      <td>1035</td>\n",
              "      <td>2459</td>\n",
              "      <td>821</td>\n",
              "      <td>1942</td>\n",
              "      <td>112</td>\n",
              "      <td>2412</td>\n",
              "      <td>55</td>\n",
              "      <td>471</td>\n",
              "      <td>72</td>\n",
              "    </tr>\n",
              "    <tr>\n",
              "      <th>top</th>\n",
              "      <td>NaN</td>\n",
              "      <td>30/11/2016</td>\n",
              "      <td>Swiggy</td>\n",
              "      <td>Consumer Internet</td>\n",
              "      <td>Online Lending Platform</td>\n",
              "      <td>Bangalore</td>\n",
              "      <td>Undisclosed Investors</td>\n",
              "      <td>Private Equity</td>\n",
              "      <td>10,00,000</td>\n",
              "      <td>Series A</td>\n",
              "    </tr>\n",
              "    <tr>\n",
              "      <th>freq</th>\n",
              "      <td>NaN</td>\n",
              "      <td>11</td>\n",
              "      <td>8</td>\n",
              "      <td>941</td>\n",
              "      <td>11</td>\n",
              "      <td>700</td>\n",
              "      <td>39</td>\n",
              "      <td>1356</td>\n",
              "      <td>165</td>\n",
              "      <td>175</td>\n",
              "    </tr>\n",
              "    <tr>\n",
              "      <th>mean</th>\n",
              "      <td>1522.500000</td>\n",
              "      <td>NaN</td>\n",
              "      <td>NaN</td>\n",
              "      <td>NaN</td>\n",
              "      <td>NaN</td>\n",
              "      <td>NaN</td>\n",
              "      <td>NaN</td>\n",
              "      <td>NaN</td>\n",
              "      <td>NaN</td>\n",
              "      <td>NaN</td>\n",
              "    </tr>\n",
              "    <tr>\n",
              "      <th>std</th>\n",
              "      <td>878.871435</td>\n",
              "      <td>NaN</td>\n",
              "      <td>NaN</td>\n",
              "      <td>NaN</td>\n",
              "      <td>NaN</td>\n",
              "      <td>NaN</td>\n",
              "      <td>NaN</td>\n",
              "      <td>NaN</td>\n",
              "      <td>NaN</td>\n",
              "      <td>NaN</td>\n",
              "    </tr>\n",
              "    <tr>\n",
              "      <th>min</th>\n",
              "      <td>1.000000</td>\n",
              "      <td>NaN</td>\n",
              "      <td>NaN</td>\n",
              "      <td>NaN</td>\n",
              "      <td>NaN</td>\n",
              "      <td>NaN</td>\n",
              "      <td>NaN</td>\n",
              "      <td>NaN</td>\n",
              "      <td>NaN</td>\n",
              "      <td>NaN</td>\n",
              "    </tr>\n",
              "    <tr>\n",
              "      <th>25%</th>\n",
              "      <td>761.750000</td>\n",
              "      <td>NaN</td>\n",
              "      <td>NaN</td>\n",
              "      <td>NaN</td>\n",
              "      <td>NaN</td>\n",
              "      <td>NaN</td>\n",
              "      <td>NaN</td>\n",
              "      <td>NaN</td>\n",
              "      <td>NaN</td>\n",
              "      <td>NaN</td>\n",
              "    </tr>\n",
              "    <tr>\n",
              "      <th>50%</th>\n",
              "      <td>1522.500000</td>\n",
              "      <td>NaN</td>\n",
              "      <td>NaN</td>\n",
              "      <td>NaN</td>\n",
              "      <td>NaN</td>\n",
              "      <td>NaN</td>\n",
              "      <td>NaN</td>\n",
              "      <td>NaN</td>\n",
              "      <td>NaN</td>\n",
              "      <td>NaN</td>\n",
              "    </tr>\n",
              "    <tr>\n",
              "      <th>75%</th>\n",
              "      <td>2283.250000</td>\n",
              "      <td>NaN</td>\n",
              "      <td>NaN</td>\n",
              "      <td>NaN</td>\n",
              "      <td>NaN</td>\n",
              "      <td>NaN</td>\n",
              "      <td>NaN</td>\n",
              "      <td>NaN</td>\n",
              "      <td>NaN</td>\n",
              "      <td>NaN</td>\n",
              "    </tr>\n",
              "    <tr>\n",
              "      <th>max</th>\n",
              "      <td>3044.000000</td>\n",
              "      <td>NaN</td>\n",
              "      <td>NaN</td>\n",
              "      <td>NaN</td>\n",
              "      <td>NaN</td>\n",
              "      <td>NaN</td>\n",
              "      <td>NaN</td>\n",
              "      <td>NaN</td>\n",
              "      <td>NaN</td>\n",
              "      <td>NaN</td>\n",
              "    </tr>\n",
              "  </tbody>\n",
              "</table>\n",
              "</div>\n",
              "    <div class=\"colab-df-buttons\">\n",
              "\n",
              "  <div class=\"colab-df-container\">\n",
              "    <button class=\"colab-df-convert\" onclick=\"convertToInteractive('df-4c297df0-4b08-4616-beee-36df407eec7e')\"\n",
              "            title=\"Convert this dataframe to an interactive table.\"\n",
              "            style=\"display:none;\">\n",
              "\n",
              "  <svg xmlns=\"http://www.w3.org/2000/svg\" height=\"24px\" viewBox=\"0 -960 960 960\">\n",
              "    <path d=\"M120-120v-720h720v720H120Zm60-500h600v-160H180v160Zm220 220h160v-160H400v160Zm0 220h160v-160H400v160ZM180-400h160v-160H180v160Zm440 0h160v-160H620v160ZM180-180h160v-160H180v160Zm440 0h160v-160H620v160Z\"/>\n",
              "  </svg>\n",
              "    </button>\n",
              "\n",
              "  <style>\n",
              "    .colab-df-container {\n",
              "      display:flex;\n",
              "      gap: 12px;\n",
              "    }\n",
              "\n",
              "    .colab-df-convert {\n",
              "      background-color: #E8F0FE;\n",
              "      border: none;\n",
              "      border-radius: 50%;\n",
              "      cursor: pointer;\n",
              "      display: none;\n",
              "      fill: #1967D2;\n",
              "      height: 32px;\n",
              "      padding: 0 0 0 0;\n",
              "      width: 32px;\n",
              "    }\n",
              "\n",
              "    .colab-df-convert:hover {\n",
              "      background-color: #E2EBFA;\n",
              "      box-shadow: 0px 1px 2px rgba(60, 64, 67, 0.3), 0px 1px 3px 1px rgba(60, 64, 67, 0.15);\n",
              "      fill: #174EA6;\n",
              "    }\n",
              "\n",
              "    .colab-df-buttons div {\n",
              "      margin-bottom: 4px;\n",
              "    }\n",
              "\n",
              "    [theme=dark] .colab-df-convert {\n",
              "      background-color: #3B4455;\n",
              "      fill: #D2E3FC;\n",
              "    }\n",
              "\n",
              "    [theme=dark] .colab-df-convert:hover {\n",
              "      background-color: #434B5C;\n",
              "      box-shadow: 0px 1px 3px 1px rgba(0, 0, 0, 0.15);\n",
              "      filter: drop-shadow(0px 1px 2px rgba(0, 0, 0, 0.3));\n",
              "      fill: #FFFFFF;\n",
              "    }\n",
              "  </style>\n",
              "\n",
              "    <script>\n",
              "      const buttonEl =\n",
              "        document.querySelector('#df-4c297df0-4b08-4616-beee-36df407eec7e button.colab-df-convert');\n",
              "      buttonEl.style.display =\n",
              "        google.colab.kernel.accessAllowed ? 'block' : 'none';\n",
              "\n",
              "      async function convertToInteractive(key) {\n",
              "        const element = document.querySelector('#df-4c297df0-4b08-4616-beee-36df407eec7e');\n",
              "        const dataTable =\n",
              "          await google.colab.kernel.invokeFunction('convertToInteractive',\n",
              "                                                    [key], {});\n",
              "        if (!dataTable) return;\n",
              "\n",
              "        const docLinkHtml = 'Like what you see? Visit the ' +\n",
              "          '<a target=\"_blank\" href=https://colab.research.google.com/notebooks/data_table.ipynb>data table notebook</a>'\n",
              "          + ' to learn more about interactive tables.';\n",
              "        element.innerHTML = '';\n",
              "        dataTable['output_type'] = 'display_data';\n",
              "        await google.colab.output.renderOutput(dataTable, element);\n",
              "        const docLink = document.createElement('div');\n",
              "        docLink.innerHTML = docLinkHtml;\n",
              "        element.appendChild(docLink);\n",
              "      }\n",
              "    </script>\n",
              "  </div>\n",
              "\n",
              "\n",
              "    <div id=\"df-d968cb0d-87cc-4f59-9f47-2c701e9e0fa0\">\n",
              "      <button class=\"colab-df-quickchart\" onclick=\"quickchart('df-d968cb0d-87cc-4f59-9f47-2c701e9e0fa0')\"\n",
              "                title=\"Suggest charts\"\n",
              "                style=\"display:none;\">\n",
              "\n",
              "<svg xmlns=\"http://www.w3.org/2000/svg\" height=\"24px\"viewBox=\"0 0 24 24\"\n",
              "     width=\"24px\">\n",
              "    <g>\n",
              "        <path d=\"M19 3H5c-1.1 0-2 .9-2 2v14c0 1.1.9 2 2 2h14c1.1 0 2-.9 2-2V5c0-1.1-.9-2-2-2zM9 17H7v-7h2v7zm4 0h-2V7h2v10zm4 0h-2v-4h2v4z\"/>\n",
              "    </g>\n",
              "</svg>\n",
              "      </button>\n",
              "\n",
              "<style>\n",
              "  .colab-df-quickchart {\n",
              "      --bg-color: #E8F0FE;\n",
              "      --fill-color: #1967D2;\n",
              "      --hover-bg-color: #E2EBFA;\n",
              "      --hover-fill-color: #174EA6;\n",
              "      --disabled-fill-color: #AAA;\n",
              "      --disabled-bg-color: #DDD;\n",
              "  }\n",
              "\n",
              "  [theme=dark] .colab-df-quickchart {\n",
              "      --bg-color: #3B4455;\n",
              "      --fill-color: #D2E3FC;\n",
              "      --hover-bg-color: #434B5C;\n",
              "      --hover-fill-color: #FFFFFF;\n",
              "      --disabled-bg-color: #3B4455;\n",
              "      --disabled-fill-color: #666;\n",
              "  }\n",
              "\n",
              "  .colab-df-quickchart {\n",
              "    background-color: var(--bg-color);\n",
              "    border: none;\n",
              "    border-radius: 50%;\n",
              "    cursor: pointer;\n",
              "    display: none;\n",
              "    fill: var(--fill-color);\n",
              "    height: 32px;\n",
              "    padding: 0;\n",
              "    width: 32px;\n",
              "  }\n",
              "\n",
              "  .colab-df-quickchart:hover {\n",
              "    background-color: var(--hover-bg-color);\n",
              "    box-shadow: 0 1px 2px rgba(60, 64, 67, 0.3), 0 1px 3px 1px rgba(60, 64, 67, 0.15);\n",
              "    fill: var(--button-hover-fill-color);\n",
              "  }\n",
              "\n",
              "  .colab-df-quickchart-complete:disabled,\n",
              "  .colab-df-quickchart-complete:disabled:hover {\n",
              "    background-color: var(--disabled-bg-color);\n",
              "    fill: var(--disabled-fill-color);\n",
              "    box-shadow: none;\n",
              "  }\n",
              "\n",
              "  .colab-df-spinner {\n",
              "    border: 2px solid var(--fill-color);\n",
              "    border-color: transparent;\n",
              "    border-bottom-color: var(--fill-color);\n",
              "    animation:\n",
              "      spin 1s steps(1) infinite;\n",
              "  }\n",
              "\n",
              "  @keyframes spin {\n",
              "    0% {\n",
              "      border-color: transparent;\n",
              "      border-bottom-color: var(--fill-color);\n",
              "      border-left-color: var(--fill-color);\n",
              "    }\n",
              "    20% {\n",
              "      border-color: transparent;\n",
              "      border-left-color: var(--fill-color);\n",
              "      border-top-color: var(--fill-color);\n",
              "    }\n",
              "    30% {\n",
              "      border-color: transparent;\n",
              "      border-left-color: var(--fill-color);\n",
              "      border-top-color: var(--fill-color);\n",
              "      border-right-color: var(--fill-color);\n",
              "    }\n",
              "    40% {\n",
              "      border-color: transparent;\n",
              "      border-right-color: var(--fill-color);\n",
              "      border-top-color: var(--fill-color);\n",
              "    }\n",
              "    60% {\n",
              "      border-color: transparent;\n",
              "      border-right-color: var(--fill-color);\n",
              "    }\n",
              "    80% {\n",
              "      border-color: transparent;\n",
              "      border-right-color: var(--fill-color);\n",
              "      border-bottom-color: var(--fill-color);\n",
              "    }\n",
              "    90% {\n",
              "      border-color: transparent;\n",
              "      border-bottom-color: var(--fill-color);\n",
              "    }\n",
              "  }\n",
              "</style>\n",
              "\n",
              "      <script>\n",
              "        async function quickchart(key) {\n",
              "          const quickchartButtonEl =\n",
              "            document.querySelector('#' + key + ' button');\n",
              "          quickchartButtonEl.disabled = true;  // To prevent multiple clicks.\n",
              "          quickchartButtonEl.classList.add('colab-df-spinner');\n",
              "          try {\n",
              "            const charts = await google.colab.kernel.invokeFunction(\n",
              "                'suggestCharts', [key], {});\n",
              "          } catch (error) {\n",
              "            console.error('Error during call to suggestCharts:', error);\n",
              "          }\n",
              "          quickchartButtonEl.classList.remove('colab-df-spinner');\n",
              "          quickchartButtonEl.classList.add('colab-df-quickchart-complete');\n",
              "        }\n",
              "        (() => {\n",
              "          let quickchartButtonEl =\n",
              "            document.querySelector('#df-d968cb0d-87cc-4f59-9f47-2c701e9e0fa0 button');\n",
              "          quickchartButtonEl.style.display =\n",
              "            google.colab.kernel.accessAllowed ? 'block' : 'none';\n",
              "        })();\n",
              "      </script>\n",
              "    </div>\n",
              "\n",
              "    </div>\n",
              "  </div>\n"
            ],
            "application/vnd.google.colaboratory.intrinsic+json": {
              "type": "dataframe",
              "summary": "{\n  \"name\": \"df\",\n  \"rows\": 11,\n  \"fields\": [\n    {\n      \"column\": \"Sr No\",\n      \"properties\": {\n        \"dtype\": \"number\",\n        \"std\": 1096.7675441952217,\n        \"min\": 1.0,\n        \"max\": 3044.0,\n        \"num_unique_values\": 6,\n        \"samples\": [\n          3044.0,\n          1522.5,\n          2283.25\n        ],\n        \"semantic_type\": \"\",\n        \"description\": \"\"\n      }\n    },\n    {\n      \"column\": \"Date dd/mm/yyyy\",\n      \"properties\": {\n        \"dtype\": \"date\",\n        \"min\": \"1970-01-01 00:00:00.000000011\",\n        \"max\": \"2016-11-30 00:00:00\",\n        \"num_unique_values\": 4,\n        \"samples\": [\n          1035,\n          \"11\",\n          \"3044\"\n        ],\n        \"semantic_type\": \"\",\n        \"description\": \"\"\n      }\n    },\n    {\n      \"column\": \"Startup Name\",\n      \"properties\": {\n        \"dtype\": \"category\",\n        \"num_unique_values\": 4,\n        \"samples\": [\n          2459,\n          \"8\",\n          \"3044\"\n        ],\n        \"semantic_type\": \"\",\n        \"description\": \"\"\n      }\n    },\n    {\n      \"column\": \"Industry Vertical\",\n      \"properties\": {\n        \"dtype\": \"category\",\n        \"num_unique_values\": 4,\n        \"samples\": [\n          821,\n          \"941\",\n          \"2873\"\n        ],\n        \"semantic_type\": \"\",\n        \"description\": \"\"\n      }\n    },\n    {\n      \"column\": \"SubVertical\",\n      \"properties\": {\n        \"dtype\": \"category\",\n        \"num_unique_values\": 4,\n        \"samples\": [\n          1942,\n          \"11\",\n          \"2108\"\n        ],\n        \"semantic_type\": \"\",\n        \"description\": \"\"\n      }\n    },\n    {\n      \"column\": \"City  Location\",\n      \"properties\": {\n        \"dtype\": \"category\",\n        \"num_unique_values\": 4,\n        \"samples\": [\n          112,\n          \"700\",\n          \"2864\"\n        ],\n        \"semantic_type\": \"\",\n        \"description\": \"\"\n      }\n    },\n    {\n      \"column\": \"Investors Name\",\n      \"properties\": {\n        \"dtype\": \"category\",\n        \"num_unique_values\": 4,\n        \"samples\": [\n          2412,\n          \"39\",\n          \"3020\"\n        ],\n        \"semantic_type\": \"\",\n        \"description\": \"\"\n      }\n    },\n    {\n      \"column\": \"InvestmentnType\",\n      \"properties\": {\n        \"dtype\": \"category\",\n        \"num_unique_values\": 4,\n        \"samples\": [\n          55,\n          \"1356\",\n          \"3040\"\n        ],\n        \"semantic_type\": \"\",\n        \"description\": \"\"\n      }\n    },\n    {\n      \"column\": \"Amount in USD\",\n      \"properties\": {\n        \"dtype\": \"category\",\n        \"num_unique_values\": 4,\n        \"samples\": [\n          471,\n          \"165\",\n          \"2084\"\n        ],\n        \"semantic_type\": \"\",\n        \"description\": \"\"\n      }\n    },\n    {\n      \"column\": \"Remarks\",\n      \"properties\": {\n        \"dtype\": \"category\",\n        \"num_unique_values\": 4,\n        \"samples\": [\n          72,\n          \"175\",\n          \"419\"\n        ],\n        \"semantic_type\": \"\",\n        \"description\": \"\"\n      }\n    }\n  ]\n}"
            }
          },
          "metadata": {},
          "execution_count": 108
        }
      ]
    },
    {
      "cell_type": "code",
      "source": [
        "df.drop_duplicates(inplace=True)\n"
      ],
      "metadata": {
        "id": "FjsQcfiVOXI1"
      },
      "execution_count": 109,
      "outputs": []
    },
    {
      "cell_type": "code",
      "source": [
        "df.columns = df.columns.str.strip().str.lower().str.replace(\" \", \"_\")\n"
      ],
      "metadata": {
        "id": "KPFY9zWUOgDF"
      },
      "execution_count": 110,
      "outputs": []
    },
    {
      "cell_type": "code",
      "metadata": {
        "colab": {
          "base_uri": "https://localhost:8080/"
        },
        "id": "3277077a",
        "outputId": "92509830-52b2-46ca-b0a2-7b1dbdbc5256"
      },
      "source": [
        "# Check the unique values in 'amount_in_usd' to identify problematic entries\n",
        "print(df['amount_in_usd'].unique())"
      ],
      "execution_count": 111,
      "outputs": [
        {
          "output_type": "stream",
          "name": "stdout",
          "text": [
            "['20,00,00,000' '80,48,394' '1,83,58,860' '30,00,000' '18,00,000'\n",
            " '90,00,000' '15,00,00,000' '60,00,000' '7,00,00,000' '5,00,00,000'\n",
            " '2,00,00,000' '1,20,00,000' '3,00,00,000' '59,00,000' '20,00,000'\n",
            " '23,10,00,000' '4,86,000' '15,00,000' 'undisclosed' '2,60,00,000'\n",
            " '1,74,11,265' '13,00,000' '13,50,00,000' '3,00,000' '22,00,00,000'\n",
            " '1,58,00,000' '28,30,00,000' '1,00,00,00,000' '4,50,00,000'\n",
            " '58,50,00,000' 'unknown' '45,00,000' '33,00,000' '50,00,000'\n",
            " '1,80,00,000' '10,00,000' '1,00,00,000' '45,00,00,000' '16,00,000'\n",
            " '14,00,00,000' '3,80,80,000' '12,50,00,000' '1,10,00,000' '5,10,00,000'\n",
            " '3,70,00,000' '5,00,000' '11,00,00,000' '1,50,00,000' '65,90,000'\n",
            " 'Undisclosed' '3,90,00,00,000' '1,90,00,000' '25,00,000' '1,45,000'\n",
            " '6,00,00,000' '1,60,00,000' '57,50,000' '3,19,605' '48,89,975.54'\n",
            " '7,50,00,000' '27,39,034.68' '1,51,09,500.00' '4,30,200' '1,55,00,000'\n",
            " '5,20,00,000' '35,84,000' '34,00,000' '8,68,600' '1,15,00,000'\n",
            " '56,00,000' '1,70,00,000' '4,30,665' '35,91,375' '2,00,000' '35,00,000'\n",
            " '63,20,820' '24,43,495' '3,07,000' '14,342,000+' '22,60,00,000'\n",
            " '6,00,000' '10,00,00,000' '2,20,00,000' '7,00,000' '8,00,000' '5,72,000'\n",
            " '1,43,000' '1,38,995' '2,77,99,000' '30,00,00,000' '2,78,000'\n",
            " '3,10,00,000' '2,95,00,000' '4,20,00,000' '17,00,000' nan '82,00,000'\n",
            " '40,00,000' '1,46,80,000' '3,50,00,000' '22,50,00,000' '63,90,000'\n",
            " '15,72,00,000' '3,20,00,000' '55,00,000' '4,00,000' '70,00,000'\n",
            " '1,20,000' '1,22,00,000' '6,60,00,000' '80,00,000' '1,14,811' '58,50,000'\n",
            " '48,00,000' '1,42,70,000' '1,34,00,000' '42,00,000' '60,00,00,000'\n",
            " '62,50,000' '2,77,00,000' '4,40,000' '11,00,000' '4,37,000' '1,80,000'\n",
            " '1,75,000' '2,90,00,000' '4,97,00,000' '2,80,000' '4,36,000' '12,50,000'\n",
            " '12,00,00,000' '1,25,000' '2,30,00,000' '2,15,00,000' '1,48,00,000'\n",
            " '1,01,00,000' '3,000,00' '4,50,000' '34,50,000' '2,10,00,000' '91,00,000'\n",
            " '89,50,000' '2,25,000' '9,49,000' '2,40,00,000' '4200000' '7,35,000'\n",
            " '2,93,000' '1,40,00,000' '13,000,00' '3,07,600' '5,50,00,000' '1,50,000'\n",
            " '28,00,000' '1,000,000,' '46,140' '46,000,00' '11,000,00' '19,00,000'\n",
            " '2,46,000' '75,00,000' '9,78,000' '2,50,000' '21,00,000' '97,00,000'\n",
            " '76,00,000' '3,84,00,000' '8,20,00,000' '1,72,00,000' '6,20,00,000'\n",
            " '13,10,000' '7,68,000' '12,40,000' '5,35,000' '43,00,000' '31,00,000'\n",
            " '68,30,000' '8,70,00,000' '9,35,089' '3,11,200' '1,35,00,000' '1,00,000'\n",
            " '1,48,434' '62,30,000' '38,00,000' '7,72,500' '10,40,000' '11,50,00,000'\n",
            " '14,00,000' '1,57,00,000' '47,00,000' '19,30,000' '1,88,40,000'\n",
            " '2,35,00,000' '3,62,30,000' '80,000' '3,54,600' '2,50,00,000'\n",
            " '1,82,00,000' '32,00,000' '4,70,00,000' '86,00,000' '62,40,000'\n",
            " '74,00,000' '44,00,000' '1,23,00,000' '7,50,000' '23,00,000' '50,000'\n",
            " '12,00,000' '1,75,00,000' '2,33,000' '2,70,00,000' '72,00,000' '5,37,000'\n",
            " '27,00,000' '95,00,000' '1,95,00,000' '5,70,000' '36,00,000' '8,72,000'\n",
            " '82,50,000' '9,00,000' '6,92,000' '3,29,230' '27,00,00,000' '39,000'\n",
            " '1,30,00,000' '13,50,000' '3,06,000' '3,87,00,000' '92,00,000' '3,36,000'\n",
            " '2,35,000' '7,70,00,000' '77,00,000' '1,18,000' '7,22,000' '5,50,000'\n",
            " '1,07,50,000' '25,00,00,000' '7,80,000' '69,00,000' '62,00,000'\n",
            " '4,40,00,000' '1,54,00,000' '4,22,000' '8,50,000' '2,43,000' '2,20,000'\n",
            " '7,83,000' '2,50,00,00,000' '3,60,00,000' '3,12,000' '3,85,000'\n",
            " '1,87,000' '68,00,000' '7,34,000' '8,00,00,000' '3,40,00,000' '26,00,000'\n",
            " '85,00,000' '22,50,000' '4,64,000' '1,85,00,000' '5,40,000' '2,34,000'\n",
            " '6,50,000' '2,32,000' '3,50,000' '78,00,000' '7,76,000' '1,25,00,000'\n",
            " '52,00,000' '24,00,000' '2,15,000' '46,00,000' '7,10,00,000' '3,11,000'\n",
            " '7,37,00,000' '3,90,000' '10,45,00,000' '4,66,000' '53,00,000'\n",
            " '1,40,00,00,000' '66,00,000' '5,80,000' '4,00,00,000' '61,00,000'\n",
            " '36,90,000' '26,00,00,000' '3,10,000' '6,20,000' '46,50,000' '1,55,000'\n",
            " '63,00,000' '2,45,000' '33,00,00,000' '2,75,000' '67,00,000' '17,90,000'\n",
            " '30,000' '36,50,000' '4,43,000' '33,50,000' '36,70,000' '1,91,000'\n",
            " '5,60,00,000' '3,82,000' '3,25,000' '40,000' '58,00,000' '3,30,000'\n",
            " '2,24,00,000' '65,00,000' '1,52,00,000' '3,75,000' '94,000' '3,66,000'\n",
            " '8,25,000' '5,70,00,000' '41,00,000' '4,41,000' '1,47,000' '22,00,000'\n",
            " '88,00,000' '1,06,000' '22,500' '68,000' '18,000' '1,11,00,000'\n",
            " '2,97,000' '1,23,000' '1,62,000' '3,24,000' '45,000' '90,000' '9,63,000'\n",
            " '2,18,000' '37,50,000' '10,50,000' '25,000' '2,27,000' '9,71,000'\n",
            " '3,15,000' '6,70,000' '4,48,000' '3,13,00,000' '2,98,000' '4,25,000'\n",
            " '7,45,000' '15,80,000' '8,90,000' '27,000' '4,45,000' '2,09,000'\n",
            " '1,56,00,000' '17,50,00,000' '6,75,000' '1,49,000' '1,04,000' '7,40,000'\n",
            " '19,50,000' '1,22,50,000' '10,70,000' '5,95,000' '75,000' '2,10,000'\n",
            " '1,48,000' '2,95,000' '3,68,000' '3,76,000' '27,50,000' '89,000'\n",
            " '4,75,000' '89,00,000' '2,23,608' '1,49,00,000' '2,30,000' '1,08,000'\n",
            " '3,60,000' '81,000' '52,000' '9,70,000' '73,000' '37,000' '1,60,000'\n",
            " '70,000' '18,00,00,000' '54,00,000' '1,65,00,000' '14,50,00,000'\n",
            " '2,40,000' '5,20,000' '5,15,000' '3,70,000' '1,85,000' '51,50,000'\n",
            " '2,25,00,000' '3,03,000' '3,20,000' '1,66,00,000' '4,60,000' '4,90,000'\n",
            " '37,00,000' '5,30,000' '50,00,00,000' '4,55,000' '3,05,000' '1,10,000'\n",
            " '14,50,000' '77,000' '1,90,000' '29,50,000' '15,30,000' '6,40,000'\n",
            " '1,30,000' '2,60,000' '2,05,000' '7,70,000' '42,50,000' '4,10,000'\n",
            " '11,50,000' '3,75,00,000' '17,50,000' '68,00,00,000' '96,00,000'\n",
            " '7,85,000' '9,00,00,000' '6,30,000' '6,30,00,000' '1,56,000' '1,61,000'\n",
            " '3,95,000' '20,000' '4,70,000' '1,02,00,000' '\\\\\\\\xc2\\\\\\\\xa020,000,000'\n",
            " '\\\\\\\\xc2\\\\\\\\xa016,200,000' '\\\\\\\\xc2\\\\\\\\xa0N/A' '\\\\\\\\xc2\\\\\\\\xa0600,000'\n",
            " '\\\\\\\\xc2\\\\\\\\xa0685,000' '\\\\\\\\xc2\\\\\\\\xa019,350,000'\n",
            " '\\\\\\\\xc2\\\\\\\\xa05,000,000' '\\\\\\\\xc2\\\\\\\\xa010,000,000' '7,90,000'\n",
            " '48,50,000' '1,27,50,000' '70,00,00,000' '1,68,000' '13,70,00,000'\n",
            " '1,40,000' '8,50,00,000' '2,70,000' '6,25,000' '1,65,000' '40,00,00,000'\n",
            " '2,80,00,000' '1,66,000' '1,15,000' '16,600' '5,18,000' '41,50,000'\n",
            " '2,90,000' '21,50,000' '3,80,000' '1,35,000' '2,85,000' '30,768' '16,000'\n",
            " '1,47,50,000' '32,50,000']\n"
          ]
        }
      ]
    },
    {
      "cell_type": "code",
      "source": [
        "# Replace non-numeric values with NaN, handling variations in casing and extra characters\n",
        "df['amount_in_usd'] = df['amount_in_usd'].astype(str).str.lower().str.replace(r'[^\\d,\\.]', '', regex=True)\n",
        "df['amount_in_usd'] = df['amount_in_usd'].str.replace(\",\", \"\")\n",
        "\n",
        "# Convert to numeric, coercing errors to NaN\n",
        "df['amount_in_usd'] = pd.to_numeric(df['amount_in_usd'], errors='coerce')\n",
        "\n",
        "# Drop rows with NaN values in 'amount_in_usd'\n",
        "df.dropna(subset=['amount_in_usd'], inplace=True)"
      ],
      "metadata": {
        "id": "5dVe7yGSO_XZ"
      },
      "execution_count": 112,
      "outputs": []
    },
    {
      "cell_type": "code",
      "source": [
        "df['date_dd/mm/yyyy'] = pd.to_datetime(df['date_dd/mm/yyyy'], errors='coerce', format='%d/%m/%Y')  # errors='coerce' converts bad dates to NaT"
      ],
      "metadata": {
        "id": "O4s6or6jPIVl"
      },
      "execution_count": 113,
      "outputs": []
    },
    {
      "cell_type": "code",
      "source": [
        "df['city__location'] = df['city__location'].str.strip().str.title()  # Remove extra spaces, capitalize\n",
        "df['city__location'] = df['city__location'].replace({\n",
        "    'Delhi': 'New Delhi',\n",
        "    'Bangalore': 'Bengaluru',\n",
        "    'Mumbai ': 'Mumbai',\n",
        "})"
      ],
      "metadata": {
        "id": "0WD-2SVUPOrB"
      },
      "execution_count": 114,
      "outputs": []
    },
    {
      "cell_type": "code",
      "source": [
        "df['investmentntype'] = df['investmentntype'].str.strip().str.title()"
      ],
      "metadata": {
        "id": "xPulNqqYPVUz"
      },
      "execution_count": 115,
      "outputs": []
    },
    {
      "cell_type": "code",
      "source": [
        "df['industry_vertical'].fillna(\"Others\", inplace=True)\n",
        "df['subvertical'].fillna(\"Others\", inplace=True)\n"
      ],
      "metadata": {
        "colab": {
          "base_uri": "https://localhost:8080/"
        },
        "id": "aoyusWgrPb_y",
        "outputId": "cd3da615-1c19-4fdd-8248-c10a42a434c7"
      },
      "execution_count": 116,
      "outputs": [
        {
          "output_type": "stream",
          "name": "stderr",
          "text": [
            "/tmp/ipython-input-116-1619878109.py:1: FutureWarning: A value is trying to be set on a copy of a DataFrame or Series through chained assignment using an inplace method.\n",
            "The behavior will change in pandas 3.0. This inplace method will never work because the intermediate object on which we are setting values always behaves as a copy.\n",
            "\n",
            "For example, when doing 'df[col].method(value, inplace=True)', try using 'df.method({col: value}, inplace=True)' or df[col] = df[col].method(value) instead, to perform the operation inplace on the original object.\n",
            "\n",
            "\n",
            "  df['industry_vertical'].fillna(\"Others\", inplace=True)\n",
            "/tmp/ipython-input-116-1619878109.py:2: FutureWarning: A value is trying to be set on a copy of a DataFrame or Series through chained assignment using an inplace method.\n",
            "The behavior will change in pandas 3.0. This inplace method will never work because the intermediate object on which we are setting values always behaves as a copy.\n",
            "\n",
            "For example, when doing 'df[col].method(value, inplace=True)', try using 'df.method({col: value}, inplace=True)' or df[col] = df[col].method(value) instead, to perform the operation inplace on the original object.\n",
            "\n",
            "\n",
            "  df['subvertical'].fillna(\"Others\", inplace=True)\n"
          ]
        }
      ]
    },
    {
      "cell_type": "code",
      "source": [
        "df.isnull().sum()\n"
      ],
      "metadata": {
        "colab": {
          "base_uri": "https://localhost:8080/",
          "height": 398
        },
        "id": "a9m43z4wPeyX",
        "outputId": "290a86ae-a6a5-4d67-f208-6fb0f26c0520"
      },
      "execution_count": 117,
      "outputs": [
        {
          "output_type": "execute_result",
          "data": {
            "text/plain": [
              "sr_no                   0\n",
              "date_dd/mm/yyyy         7\n",
              "startup_name            0\n",
              "industry_vertical       0\n",
              "subvertical             0\n",
              "city__location        135\n",
              "investors_name         20\n",
              "investmentntype         3\n",
              "amount_in_usd           0\n",
              "remarks              1736\n",
              "dtype: int64"
            ],
            "text/html": [
              "<div>\n",
              "<style scoped>\n",
              "    .dataframe tbody tr th:only-of-type {\n",
              "        vertical-align: middle;\n",
              "    }\n",
              "\n",
              "    .dataframe tbody tr th {\n",
              "        vertical-align: top;\n",
              "    }\n",
              "\n",
              "    .dataframe thead th {\n",
              "        text-align: right;\n",
              "    }\n",
              "</style>\n",
              "<table border=\"1\" class=\"dataframe\">\n",
              "  <thead>\n",
              "    <tr style=\"text-align: right;\">\n",
              "      <th></th>\n",
              "      <th>0</th>\n",
              "    </tr>\n",
              "  </thead>\n",
              "  <tbody>\n",
              "    <tr>\n",
              "      <th>sr_no</th>\n",
              "      <td>0</td>\n",
              "    </tr>\n",
              "    <tr>\n",
              "      <th>date_dd/mm/yyyy</th>\n",
              "      <td>7</td>\n",
              "    </tr>\n",
              "    <tr>\n",
              "      <th>startup_name</th>\n",
              "      <td>0</td>\n",
              "    </tr>\n",
              "    <tr>\n",
              "      <th>industry_vertical</th>\n",
              "      <td>0</td>\n",
              "    </tr>\n",
              "    <tr>\n",
              "      <th>subvertical</th>\n",
              "      <td>0</td>\n",
              "    </tr>\n",
              "    <tr>\n",
              "      <th>city__location</th>\n",
              "      <td>135</td>\n",
              "    </tr>\n",
              "    <tr>\n",
              "      <th>investors_name</th>\n",
              "      <td>20</td>\n",
              "    </tr>\n",
              "    <tr>\n",
              "      <th>investmentntype</th>\n",
              "      <td>3</td>\n",
              "    </tr>\n",
              "    <tr>\n",
              "      <th>amount_in_usd</th>\n",
              "      <td>0</td>\n",
              "    </tr>\n",
              "    <tr>\n",
              "      <th>remarks</th>\n",
              "      <td>1736</td>\n",
              "    </tr>\n",
              "  </tbody>\n",
              "</table>\n",
              "</div><br><label><b>dtype:</b> int64</label>"
            ]
          },
          "metadata": {},
          "execution_count": 117
        }
      ]
    },
    {
      "cell_type": "code",
      "source": [
        "df.info()"
      ],
      "metadata": {
        "colab": {
          "base_uri": "https://localhost:8080/"
        },
        "id": "dLT9Kpn8PkmL",
        "outputId": "9f9e9510-98a8-4ae5-bdc3-380c7bab32d3"
      },
      "execution_count": 118,
      "outputs": [
        {
          "output_type": "stream",
          "name": "stdout",
          "text": [
            "<class 'pandas.core.frame.DataFrame'>\n",
            "Index: 2077 entries, 0 to 3043\n",
            "Data columns (total 10 columns):\n",
            " #   Column             Non-Null Count  Dtype         \n",
            "---  ------             --------------  -----         \n",
            " 0   sr_no              2077 non-null   int64         \n",
            " 1   date_dd/mm/yyyy    2070 non-null   datetime64[ns]\n",
            " 2   startup_name       2077 non-null   object        \n",
            " 3   industry_vertical  2077 non-null   object        \n",
            " 4   subvertical        2077 non-null   object        \n",
            " 5   city__location     1942 non-null   object        \n",
            " 6   investors_name     2057 non-null   object        \n",
            " 7   investmentntype    2074 non-null   object        \n",
            " 8   amount_in_usd      2077 non-null   float64       \n",
            " 9   remarks            341 non-null    object        \n",
            "dtypes: datetime64[ns](1), float64(1), int64(1), object(7)\n",
            "memory usage: 178.5+ KB\n"
          ]
        }
      ]
    },
    {
      "cell_type": "code",
      "source": [
        "import matplotlib.pyplot as plt\n",
        "import seaborn as sns\n",
        "\n",
        "sns.set_style('whitegrid')"
      ],
      "metadata": {
        "id": "UDtrA7fMPnyC"
      },
      "execution_count": 119,
      "outputs": []
    },
    {
      "cell_type": "code",
      "source": [
        "city_counts = df['city__location'].value_counts().head(10)\n",
        "\n",
        "plt.figure(figsize=(10, 5))\n",
        "sns.barplot(x=city_counts.index, y=city_counts.values, palette='viridis')\n",
        "plt.title(\"Top 10 Cities by Number of Funded Startups\")\n",
        "plt.ylabel(\"Number of Startups\")\n",
        "plt.xticks(rotation=45)\n",
        "plt.show()"
      ],
      "metadata": {
        "colab": {
          "base_uri": "https://localhost:8080/",
          "height": 655
        },
        "id": "Zi9GjUHPPy7O",
        "outputId": "8b2b927e-2ee4-4f5f-d499-5cf4449081a0"
      },
      "execution_count": 120,
      "outputs": [
        {
          "output_type": "stream",
          "name": "stderr",
          "text": [
            "/tmp/ipython-input-120-1246948144.py:4: FutureWarning: \n",
            "\n",
            "Passing `palette` without assigning `hue` is deprecated and will be removed in v0.14.0. Assign the `x` variable to `hue` and set `legend=False` for the same effect.\n",
            "\n",
            "  sns.barplot(x=city_counts.index, y=city_counts.values, palette='viridis')\n"
          ]
        },
        {
          "output_type": "display_data",
          "data": {
            "text/plain": [
              "<Figure size 1000x500 with 1 Axes>"
            ],
            "image/png": "[encoded data removed]"
          },
          "metadata": {}
        }
      ]
    },
    {
      "cell_type": "code",
      "source": [
        "top_industries = df['industry_vertical'].value_counts().head(10)\n",
        "\n",
        "plt.figure(figsize=(10, 5))\n",
        "sns.barplot(x=top_industries.index, y=top_industries.values, palette='magma')\n",
        "plt.title(\"Top 10 Industry Verticals\")\n",
        "plt.ylabel(\"Number of Fundings\")\n",
        "plt.xticks(rotation=45)\n",
        "plt.show()\n"
      ],
      "metadata": {
        "colab": {
          "base_uri": "https://localhost:8080/",
          "height": 687
        },
        "id": "L-RAUI4tP6lI",
        "outputId": "7a7dc509-11dd-4d2e-c031-c8258ad79c40"
      },
      "execution_count": 121,
      "outputs": [
        {
          "output_type": "stream",
          "name": "stderr",
          "text": [
            "/tmp/ipython-input-121-4207413570.py:4: FutureWarning: \n",
            "\n",
            "Passing `palette` without assigning `hue` is deprecated and will be removed in v0.14.0. Assign the `x` variable to `hue` and set `legend=False` for the same effect.\n",
            "\n",
            "  sns.barplot(x=top_industries.index, y=top_industries.values, palette='magma')\n"
          ]
        },
        {
          "output_type": "display_data",
          "data": {
            "text/plain": [
              "<Figure size 1000x500 with 1 Axes>"
            ],
            "image/png": "[encoded data removed]"
          },
          "metadata": {}
        }
      ]
    },
    {
      "cell_type": "code",
      "source": [
        "plt.figure(figsize=(8, 5))\n",
        "df['investmentntype'].value_counts().plot(kind='pie', autopct='%1.1f%%', startangle=90, colors=sns.color_palette(\"Set2\"))\n",
        "plt.title(\"Investment Type Distribution\")\n",
        "plt.ylabel(\"\")\n",
        "plt.show()"
      ],
      "metadata": {
        "colab": {
          "base_uri": "https://localhost:8080/",
          "height": 444
        },
        "id": "nVLJYWySP-c1",
        "outputId": "c46db2ce-9b70-4b52-e535-351fd3df5045"
      },
      "execution_count": 122,
      "outputs": [
        {
          "output_type": "display_data",
          "data": {
            "text/plain": [
              "<Figure size 800x500 with 1 Axes>"
            ],
            "image/png": "[encoded data removed]"
          },
          "metadata": {}
        }
      ]
    },
    {
      "cell_type": "code",
      "source": [
        "df['year'] = df['date_dd/mm/yyyy'].dt.year\n",
        "yearly_funding = df.groupby('year')['amount_in_usd'].sum()\n",
        "\n",
        "plt.figure(figsize=(10, 5))\n",
        "yearly_funding.plot(kind='bar', color='skyblue')\n",
        "plt.title(\"Total Funding Amount Per Year\")\n",
        "plt.ylabel(\"Amount in USD\")\n",
        "plt.xlabel(\"Year\")\n",
        "plt.xticks(rotation=45)\n",
        "plt.show()"
      ],
      "metadata": {
        "colab": {
          "base_uri": "https://localhost:8080/",
          "height": 517
        },
        "id": "4eF2v4DgQFxx",
        "outputId": "8cd0159a-92ec-4016-8443-3436f1ce698d"
      },
      "execution_count": 123,
      "outputs": [
        {
          "output_type": "display_data",
          "data": {
            "text/plain": [
              "<Figure size 1000x500 with 1 Axes>"
            ],
            "image/png": "[encoded data removed]"
          },
          "metadata": {}
        }
      ]
    },
    {
      "cell_type": "code",
      "source": [
        "top_investors = df['investors_name'].value_counts().head(10)\n",
        "\n",
        "plt.figure(figsize=(10, 5))\n",
        "sns.barplot(x=top_investors.values, y=top_investors.index, palette='coolwarm')\n",
        "plt.title(\"Top 10 Most Active Investors\")\n",
        "plt.xlabel(\"Number of Investments\")\n",
        "plt.show()\n"
      ],
      "metadata": {
        "colab": {
          "base_uri": "https://localhost:8080/",
          "height": 569
        },
        "id": "yuXk3UKmQOLl",
        "outputId": "2fca7605-a38d-407e-d30a-b2884ba2b29d"
      },
      "execution_count": 124,
      "outputs": [
        {
          "output_type": "stream",
          "name": "stderr",
          "text": [
            "/tmp/ipython-input-124-3016277149.py:4: FutureWarning: \n",
            "\n",
            "Passing `palette` without assigning `hue` is deprecated and will be removed in v0.14.0. Assign the `y` variable to `hue` and set `legend=False` for the same effect.\n",
            "\n",
            "  sns.barplot(x=top_investors.values, y=top_investors.index, palette='coolwarm')\n"
          ]
        },
        {
          "output_type": "display_data",
          "data": {
            "text/plain": [
              "<Figure size 1000x500 with 1 Axes>"
            ],
            "image/png": "[encoded data removed]"
          },
          "metadata": {}
        }
      ]
    },
    {
      "cell_type": "code",
      "source": [
        "sns.heatmap(df.corr(numeric_only=True), annot=True, cmap=\"YlGnBu\")\n",
        "plt.title(\"Correlation Heatmap\")\n",
        "plt.show()\n"
      ],
      "metadata": {
        "colab": {
          "base_uri": "https://localhost:8080/",
          "height": 452
        },
        "id": "3hOSPx27QSji",
        "outputId": "33060d02-2dd1-4bee-db02-62773ef41d9d"
      },
      "execution_count": 125,
      "outputs": [
        {
          "output_type": "display_data",
          "data": {
            "text/plain": [
              "<Figure size 640x480 with 2 Axes>"
            ],
            "image/png": "[encoded data removed]"
          },
          "metadata": {}
        }
      ]
    },
    {
      "cell_type": "code",
      "source": [
        "# Check missing values\n",
        "df.isnull().sum()\n"
      ],
      "metadata": {
        "colab": {
          "base_uri": "https://localhost:8080/",
          "height": 429
        },
        "id": "HzxkxSZjQl8F",
        "outputId": "3814d337-a761-45d4-c02f-244c4dc2e5d6"
      },
      "execution_count": 126,
      "outputs": [
        {
          "output_type": "execute_result",
          "data": {
            "text/plain": [
              "sr_no                   0\n",
              "date_dd/mm/yyyy         7\n",
              "startup_name            0\n",
              "industry_vertical       0\n",
              "subvertical             0\n",
              "city__location        135\n",
              "investors_name         20\n",
              "investmentntype         3\n",
              "amount_in_usd           0\n",
              "remarks              1736\n",
              "year                    7\n",
              "dtype: int64"
            ],
            "text/html": [
              "<div>\n",
              "<style scoped>\n",
              "    .dataframe tbody tr th:only-of-type {\n",
              "        vertical-align: middle;\n",
              "    }\n",
              "\n",
              "    .dataframe tbody tr th {\n",
              "        vertical-align: top;\n",
              "    }\n",
              "\n",
              "    .dataframe thead th {\n",
              "        text-align: right;\n",
              "    }\n",
              "</style>\n",
              "<table border=\"1\" class=\"dataframe\">\n",
              "  <thead>\n",
              "    <tr style=\"text-align: right;\">\n",
              "      <th></th>\n",
              "      <th>0</th>\n",
              "    </tr>\n",
              "  </thead>\n",
              "  <tbody>\n",
              "    <tr>\n",
              "      <th>sr_no</th>\n",
              "      <td>0</td>\n",
              "    </tr>\n",
              "    <tr>\n",
              "      <th>date_dd/mm/yyyy</th>\n",
              "      <td>7</td>\n",
              "    </tr>\n",
              "    <tr>\n",
              "      <th>startup_name</th>\n",
              "      <td>0</td>\n",
              "    </tr>\n",
              "    <tr>\n",
              "      <th>industry_vertical</th>\n",
              "      <td>0</td>\n",
              "    </tr>\n",
              "    <tr>\n",
              "      <th>subvertical</th>\n",
              "      <td>0</td>\n",
              "    </tr>\n",
              "    <tr>\n",
              "      <th>city__location</th>\n",
              "      <td>135</td>\n",
              "    </tr>\n",
              "    <tr>\n",
              "      <th>investors_name</th>\n",
              "      <td>20</td>\n",
              "    </tr>\n",
              "    <tr>\n",
              "      <th>investmentntype</th>\n",
              "      <td>3</td>\n",
              "    </tr>\n",
              "    <tr>\n",
              "      <th>amount_in_usd</th>\n",
              "      <td>0</td>\n",
              "    </tr>\n",
              "    <tr>\n",
              "      <th>remarks</th>\n",
              "      <td>1736</td>\n",
              "    </tr>\n",
              "    <tr>\n",
              "      <th>year</th>\n",
              "      <td>7</td>\n",
              "    </tr>\n",
              "  </tbody>\n",
              "</table>\n",
              "</div><br><label><b>dtype:</b> int64</label>"
            ]
          },
          "metadata": {},
          "execution_count": 126
        }
      ]
    },
    {
      "cell_type": "code",
      "source": [
        "# Drop rows with too many missing values\n",
        "df.dropna(subset=['startup_name', 'industry_vertical', 'city__location', 'amount_in_usd'], inplace=True)\n",
        "\n",
        "# Replace missing values with 'Unknown'\n",
        "df['investors_name'].fillna('Unknown', inplace=True)\n",
        "df['investmentntype'].fillna('Unknown', inplace=True)\n",
        "df['city__location'].fillna('Unknown', inplace=True)"
      ],
      "metadata": {
        "colab": {
          "base_uri": "https://localhost:8080/"
        },
        "id": "2RC2_uaNQ2ZN",
        "outputId": "6a1f0e80-d718-4938-ebb3-7ee059767e27"
      },
      "execution_count": 127,
      "outputs": [
        {
          "output_type": "stream",
          "name": "stderr",
          "text": [
            "/tmp/ipython-input-127-3457910893.py:5: FutureWarning: A value is trying to be set on a copy of a DataFrame or Series through chained assignment using an inplace method.\n",
            "The behavior will change in pandas 3.0. This inplace method will never work because the intermediate object on which we are setting values always behaves as a copy.\n",
            "\n",
            "For example, when doing 'df[col].method(value, inplace=True)', try using 'df.method({col: value}, inplace=True)' or df[col] = df[col].method(value) instead, to perform the operation inplace on the original object.\n",
            "\n",
            "\n",
            "  df['investors_name'].fillna('Unknown', inplace=True)\n",
            "/tmp/ipython-input-127-3457910893.py:6: FutureWarning: A value is trying to be set on a copy of a DataFrame or Series through chained assignment using an inplace method.\n",
            "The behavior will change in pandas 3.0. This inplace method will never work because the intermediate object on which we are setting values always behaves as a copy.\n",
            "\n",
            "For example, when doing 'df[col].method(value, inplace=True)', try using 'df.method({col: value}, inplace=True)' or df[col] = df[col].method(value) instead, to perform the operation inplace on the original object.\n",
            "\n",
            "\n",
            "  df['investmentntype'].fillna('Unknown', inplace=True)\n",
            "/tmp/ipython-input-127-3457910893.py:7: FutureWarning: A value is trying to be set on a copy of a DataFrame or Series through chained assignment using an inplace method.\n",
            "The behavior will change in pandas 3.0. This inplace method will never work because the intermediate object on which we are setting values always behaves as a copy.\n",
            "\n",
            "For example, when doing 'df[col].method(value, inplace=True)', try using 'df.method({col: value}, inplace=True)' or df[col] = df[col].method(value) instead, to perform the operation inplace on the original object.\n",
            "\n",
            "\n",
            "  df['city__location'].fillna('Unknown', inplace=True)\n"
          ]
        }
      ]
    },
    {
      "cell_type": "code",
      "source": [
        "# Convert date column to datetime\n",
        "df['date_dd/mm/yyyy'] = pd.to_datetime(df['date_dd/mm/yyyy'], errors='coerce')\n",
        "\n",
        "# Drop rows with invalid dates\n",
        "df.dropna(subset=['date_dd/mm/yyyy'], inplace=True)"
      ],
      "metadata": {
        "id": "kmGn-9fpQ9vX"
      },
      "execution_count": 128,
      "outputs": []
    },
    {
      "cell_type": "code",
      "source": [
        "df['year'] = df['date_dd/mm/yyyy'].dt.year\n",
        "df['month'] = df['date_dd/mm/yyyy'].dt.month\n",
        "df['day'] = df['date_dd/mm/yyyy'].dt.day"
      ],
      "metadata": {
        "id": "tPOwj_F7RExh"
      },
      "execution_count": 129,
      "outputs": []
    },
    {
      "cell_type": "code",
      "source": [
        "# Normalize city names\n",
        "df['city__location'] = df['city__location'].replace({'Bangalore': 'Bengaluru', 'Delhi': 'New Delhi'})\n",
        "\n",
        "# Lowercase all strings to avoid duplication\n",
        "df['city__location'] = df['city__location'].str.strip().str.lower()\n",
        "df['industry_vertical'] = df['industry_vertical'].str.strip().str.lower()\n",
        "df['investmentntype'] = df['investmentntype'].str.strip().str.lower()"
      ],
      "metadata": {
        "id": "oSHWm73tRLUQ"
      },
      "execution_count": 130,
      "outputs": []
    },
    {
      "cell_type": "code",
      "source": [
        "# Convert to numeric\n",
        "df['amount_in_usd'] = df['amount_in_usd'].replace('[\\$,]', '', regex=True)\n",
        "df['amount_in_usd'] = pd.to_numeric(df['amount_in_usd'], errors='coerce')\n",
        "\n",
        "# Remove rows where funding amount couldn't be converted\n",
        "df.dropna(subset=['amount_in_usd'], inplace=True)\n"
      ],
      "metadata": {
        "id": "XhD8egJkRSdJ"
      },
      "execution_count": 131,
      "outputs": []
    },
    {
      "cell_type": "code",
      "source": [
        "# Label encoding for categorical columns\n",
        "from sklearn.preprocessing import LabelEncoder\n",
        "\n",
        "le = LabelEncoder()\n",
        "df['industry_encoded'] = le.fit_transform(df['industry_vertical'])\n",
        "df['investment_encoded'] = le.fit_transform(df['investmentntype'])\n",
        "df['city_encoded'] = le.fit_transform(df['city__location'])"
      ],
      "metadata": {
        "id": "3VCXWGkXRVLv"
      },
      "execution_count": 132,
      "outputs": []
    },
    {
      "cell_type": "code",
      "source": [
        "df.info()\n"
      ],
      "metadata": {
        "colab": {
          "base_uri": "https://localhost:8080/"
        },
        "id": "in1iIXKrRbxS",
        "outputId": "9d225972-e231-448e-b991-308566ac802c"
      },
      "execution_count": 133,
      "outputs": [
        {
          "output_type": "stream",
          "name": "stdout",
          "text": [
            "<class 'pandas.core.frame.DataFrame'>\n",
            "Index: 1937 entries, 0 to 2872\n",
            "Data columns (total 16 columns):\n",
            " #   Column              Non-Null Count  Dtype         \n",
            "---  ------              --------------  -----         \n",
            " 0   sr_no               1937 non-null   int64         \n",
            " 1   date_dd/mm/yyyy     1937 non-null   datetime64[ns]\n",
            " 2   startup_name        1937 non-null   object        \n",
            " 3   industry_vertical   1937 non-null   object        \n",
            " 4   subvertical         1937 non-null   object        \n",
            " 5   city__location      1937 non-null   object        \n",
            " 6   investors_name      1937 non-null   object        \n",
            " 7   investmentntype     1937 non-null   object        \n",
            " 8   amount_in_usd       1937 non-null   float64       \n",
            " 9   remarks             283 non-null    object        \n",
            " 10  year                1937 non-null   int32         \n",
            " 11  month               1937 non-null   int32         \n",
            " 12  day                 1937 non-null   int32         \n",
            " 13  industry_encoded    1937 non-null   int64         \n",
            " 14  investment_encoded  1937 non-null   int64         \n",
            " 15  city_encoded        1937 non-null   int64         \n",
            "dtypes: datetime64[ns](1), float64(1), int32(3), int64(4), object(7)\n",
            "memory usage: 234.6+ KB\n"
          ]
        }
      ]
    },
    {
      "cell_type": "code",
      "source": [
        "df.describe()\n"
      ],
      "metadata": {
        "colab": {
          "base_uri": "https://localhost:8080/",
          "height": 338
        },
        "id": "s7Pk2ovQRejb",
        "outputId": "9c8c5c97-4022-4bb5-cf52-cd955847d96e"
      },
      "execution_count": 134,
      "outputs": [
        {
          "output_type": "execute_result",
          "data": {
            "text/plain": [
              "             sr_no                date_dd/mm/yyyy  amount_in_usd         year  \\\n",
              "count  1937.000000                           1937   1.937000e+03  1937.000000   \n",
              "mean   1376.209086  2016-12-04 08:16:36.179659264   2.327417e+07  2016.416107   \n",
              "min       1.000000            2015-04-03 00:00:00   2.000000e+01  2015.000000   \n",
              "25%     574.000000            2015-12-09 00:00:00   5.000000e+05  2015.000000   \n",
              "50%    1341.000000            2016-09-30 00:00:00   1.800000e+06  2016.000000   \n",
              "75%    2169.000000            2017-10-03 00:00:00   8.000000e+06  2017.000000   \n",
              "max    2873.000000            2020-01-13 00:00:00   3.900000e+09  2020.000000   \n",
              "std     872.404106                            NaN   1.546527e+08     1.192828   \n",
              "\n",
              "             month          day  industry_encoded  investment_encoded  \\\n",
              "count  1937.000000  1937.000000       1937.000000         1937.000000   \n",
              "mean      6.673722    15.039752        242.905008           19.391327   \n",
              "min       1.000000     1.000000          0.000000            0.000000   \n",
              "25%       4.000000     8.000000         87.000000           16.000000   \n",
              "50%       7.000000    14.000000        150.000000           16.000000   \n",
              "75%       9.000000    22.000000        421.000000           23.000000   \n",
              "max      12.000000    31.000000        574.000000           43.000000   \n",
              "std       3.306626     8.691093        180.251220            4.827252   \n",
              "\n",
              "       city_encoded  \n",
              "count   1937.000000  \n",
              "mean      37.630356  \n",
              "min        0.000000  \n",
              "25%       15.000000  \n",
              "50%       33.000000  \n",
              "75%       53.000000  \n",
              "max       88.000000  \n",
              "std       20.124449  "
            ],
            "text/html": [
              "\n",
              "  <div id=\"df-588cfe42-e40b-4282-affd-f6570a43ba0b\" class=\"colab-df-container\">\n",
              "    <div>\n",
              "<style scoped>\n",
              "    .dataframe tbody tr th:only-of-type {\n",
              "        vertical-align: middle;\n",
              "    }\n",
              "\n",
              "    .dataframe tbody tr th {\n",
              "        vertical-align: top;\n",
              "    }\n",
              "\n",
              "    .dataframe thead th {\n",
              "        text-align: right;\n",
              "    }\n",
              "</style>\n",
              "<table border=\"1\" class=\"dataframe\">\n",
              "  <thead>\n",
              "    <tr style=\"text-align: right;\">\n",
              "      <th></th>\n",
              "      <th>sr_no</th>\n",
              "      <th>date_dd/mm/yyyy</th>\n",
              "      <th>amount_in_usd</th>\n",
              "      <th>year</th>\n",
              "      <th>month</th>\n",
              "      <th>day</th>\n",
              "      <th>industry_encoded</th>\n",
              "      <th>investment_encoded</th>\n",
              "      <th>city_encoded</th>\n",
              "    </tr>\n",
              "  </thead>\n",
              "  <tbody>\n",
              "    <tr>\n",
              "      <th>count</th>\n",
              "      <td>1937.000000</td>\n",
              "      <td>1937</td>\n",
              "      <td>1.937000e+03</td>\n",
              "      <td>1937.000000</td>\n",
              "      <td>1937.000000</td>\n",
              "      <td>1937.000000</td>\n",
              "      <td>1937.000000</td>\n",
              "      <td>1937.000000</td>\n",
              "      <td>1937.000000</td>\n",
              "    </tr>\n",
              "    <tr>\n",
              "      <th>mean</th>\n",
              "      <td>1376.209086</td>\n",
              "      <td>2016-12-04 08:16:36.179659264</td>\n",
              "      <td>2.327417e+07</td>\n",
              "      <td>2016.416107</td>\n",
              "      <td>6.673722</td>\n",
              "      <td>15.039752</td>\n",
              "      <td>242.905008</td>\n",
              "      <td>19.391327</td>\n",
              "      <td>37.630356</td>\n",
              "    </tr>\n",
              "    <tr>\n",
              "      <th>min</th>\n",
              "      <td>1.000000</td>\n",
              "      <td>2015-04-03 00:00:00</td>\n",
              "      <td>2.000000e+01</td>\n",
              "      <td>2015.000000</td>\n",
              "      <td>1.000000</td>\n",
              "      <td>1.000000</td>\n",
              "      <td>0.000000</td>\n",
              "      <td>0.000000</td>\n",
              "      <td>0.000000</td>\n",
              "    </tr>\n",
              "    <tr>\n",
              "      <th>25%</th>\n",
              "      <td>574.000000</td>\n",
              "      <td>2015-12-09 00:00:00</td>\n",
              "      <td>5.000000e+05</td>\n",
              "      <td>2015.000000</td>\n",
              "      <td>4.000000</td>\n",
              "      <td>8.000000</td>\n",
              "      <td>87.000000</td>\n",
              "      <td>16.000000</td>\n",
              "      <td>15.000000</td>\n",
              "    </tr>\n",
              "    <tr>\n",
              "      <th>50%</th>\n",
              "      <td>1341.000000</td>\n",
              "      <td>2016-09-30 00:00:00</td>\n",
              "      <td>1.800000e+06</td>\n",
              "      <td>2016.000000</td>\n",
              "      <td>7.000000</td>\n",
              "      <td>14.000000</td>\n",
              "      <td>150.000000</td>\n",
              "      <td>16.000000</td>\n",
              "      <td>33.000000</td>\n",
              "    </tr>\n",
              "    <tr>\n",
              "      <th>75%</th>\n",
              "      <td>2169.000000</td>\n",
              "      <td>2017-10-03 00:00:00</td>\n",
              "      <td>8.000000e+06</td>\n",
              "      <td>2017.000000</td>\n",
              "      <td>9.000000</td>\n",
              "      <td>22.000000</td>\n",
              "      <td>421.000000</td>\n",
              "      <td>23.000000</td>\n",
              "      <td>53.000000</td>\n",
              "    </tr>\n",
              "    <tr>\n",
              "      <th>max</th>\n",
              "      <td>2873.000000</td>\n",
              "      <td>2020-01-13 00:00:00</td>\n",
              "      <td>3.900000e+09</td>\n",
              "      <td>2020.000000</td>\n",
              "      <td>12.000000</td>\n",
              "      <td>31.000000</td>\n",
              "      <td>574.000000</td>\n",
              "      <td>43.000000</td>\n",
              "      <td>88.000000</td>\n",
              "    </tr>\n",
              "    <tr>\n",
              "      <th>std</th>\n",
              "      <td>872.404106</td>\n",
              "      <td>NaN</td>\n",
              "      <td>1.546527e+08</td>\n",
              "      <td>1.192828</td>\n",
              "      <td>3.306626</td>\n",
              "      <td>8.691093</td>\n",
              "      <td>180.251220</td>\n",
              "      <td>4.827252</td>\n",
              "      <td>20.124449</td>\n",
              "    </tr>\n",
              "  </tbody>\n",
              "</table>\n",
              "</div>\n",
              "    <div class=\"colab-df-buttons\">\n",
              "\n",
              "  <div class=\"colab-df-container\">\n",
              "    <button class=\"colab-df-convert\" onclick=\"convertToInteractive('df-588cfe42-e40b-4282-affd-f6570a43ba0b')\"\n",
              "            title=\"Convert this dataframe to an interactive table.\"\n",
              "            style=\"display:none;\">\n",
              "\n",
              "  <svg xmlns=\"http://www.w3.org/2000/svg\" height=\"24px\" viewBox=\"0 -960 960 960\">\n",
              "    <path d=\"M120-120v-720h720v720H120Zm60-500h600v-160H180v160Zm220 220h160v-160H400v160Zm0 220h160v-160H400v160ZM180-400h160v-160H180v160Zm440 0h160v-160H620v160ZM180-180h160v-160H180v160Zm440 0h160v-160H620v160Z\"/>\n",
              "  </svg>\n",
              "    </button>\n",
              "\n",
              "  <style>\n",
              "    .colab-df-container {\n",
              "      display:flex;\n",
              "      gap: 12px;\n",
              "    }\n",
              "\n",
              "    .colab-df-convert {\n",
              "      background-color: #E8F0FE;\n",
              "      border: none;\n",
              "      border-radius: 50%;\n",
              "      cursor: pointer;\n",
              "      display: none;\n",
              "      fill: #1967D2;\n",
              "      height: 32px;\n",
              "      padding: 0 0 0 0;\n",
              "      width: 32px;\n",
              "    }\n",
              "\n",
              "    .colab-df-convert:hover {\n",
              "      background-color: #E2EBFA;\n",
              "      box-shadow: 0px 1px 2px rgba(60, 64, 67, 0.3), 0px 1px 3px 1px rgba(60, 64, 67, 0.15);\n",
              "      fill: #174EA6;\n",
              "    }\n",
              "\n",
              "    .colab-df-buttons div {\n",
              "      margin-bottom: 4px;\n",
              "    }\n",
              "\n",
              "    [theme=dark] .colab-df-convert {\n",
              "      background-color: #3B4455;\n",
              "      fill: #D2E3FC;\n",
              "    }\n",
              "\n",
              "    [theme=dark] .colab-df-convert:hover {\n",
              "      background-color: #434B5C;\n",
              "      box-shadow: 0px 1px 3px 1px rgba(0, 0, 0, 0.15);\n",
              "      filter: drop-shadow(0px 1px 2px rgba(0, 0, 0, 0.3));\n",
              "      fill: #FFFFFF;\n",
              "    }\n",
              "  </style>\n",
              "\n",
              "    <script>\n",
              "      const buttonEl =\n",
              "        document.querySelector('#df-588cfe42-e40b-4282-affd-f6570a43ba0b button.colab-df-convert');\n",
              "      buttonEl.style.display =\n",
              "        google.colab.kernel.accessAllowed ? 'block' : 'none';\n",
              "\n",
              "      async function convertToInteractive(key) {\n",
              "        const element = document.querySelector('#df-588cfe42-e40b-4282-affd-f6570a43ba0b');\n",
              "        const dataTable =\n",
              "          await google.colab.kernel.invokeFunction('convertToInteractive',\n",
              "                                                    [key], {});\n",
              "        if (!dataTable) return;\n",
              "\n",
              "        const docLinkHtml = 'Like what you see? Visit the ' +\n",
              "          '<a target=\"_blank\" href=https://colab.research.google.com/notebooks/data_table.ipynb>data table notebook</a>'\n",
              "          + ' to learn more about interactive tables.';\n",
              "        element.innerHTML = '';\n",
              "        dataTable['output_type'] = 'display_data';\n",
              "        await google.colab.output.renderOutput(dataTable, element);\n",
              "        const docLink = document.createElement('div');\n",
              "        docLink.innerHTML = docLinkHtml;\n",
              "        element.appendChild(docLink);\n",
              "      }\n",
              "    </script>\n",
              "  </div>\n",
              "\n",
              "\n",
              "    <div id=\"df-08ac6535-5b91-4d03-ae22-8cc1b4df220a\">\n",
              "      <button class=\"colab-df-quickchart\" onclick=\"quickchart('df-08ac6535-5b91-4d03-ae22-8cc1b4df220a')\"\n",
              "                title=\"Suggest charts\"\n",
              "                style=\"display:none;\">\n",
              "\n",
              "<svg xmlns=\"http://www.w3.org/2000/svg\" height=\"24px\"viewBox=\"0 0 24 24\"\n",
              "     width=\"24px\">\n",
              "    <g>\n",
              "        <path d=\"M19 3H5c-1.1 0-2 .9-2 2v14c0 1.1.9 2 2 2h14c1.1 0 2-.9 2-2V5c0-1.1-.9-2-2-2zM9 17H7v-7h2v7zm4 0h-2V7h2v10zm4 0h-2v-4h2v4z\"/>\n",
              "    </g>\n",
              "</svg>\n",
              "      </button>\n",
              "\n",
              "<style>\n",
              "  .colab-df-quickchart {\n",
              "      --bg-color: #E8F0FE;\n",
              "      --fill-color: #1967D2;\n",
              "      --hover-bg-color: #E2EBFA;\n",
              "      --hover-fill-color: #174EA6;\n",
              "      --disabled-fill-color: #AAA;\n",
              "      --disabled-bg-color: #DDD;\n",
              "  }\n",
              "\n",
              "  [theme=dark] .colab-df-quickchart {\n",
              "      --bg-color: #3B4455;\n",
              "      --fill-color: #D2E3FC;\n",
              "      --hover-bg-color: #434B5C;\n",
              "      --hover-fill-color: #FFFFFF;\n",
              "      --disabled-bg-color: #3B4455;\n",
              "      --disabled-fill-color: #666;\n",
              "  }\n",
              "\n",
              "  .colab-df-quickchart {\n",
              "    background-color: var(--bg-color);\n",
              "    border: none;\n",
              "    border-radius: 50%;\n",
              "    cursor: pointer;\n",
              "    display: none;\n",
              "    fill: var(--fill-color);\n",
              "    height: 32px;\n",
              "    padding: 0;\n",
              "    width: 32px;\n",
              "  }\n",
              "\n",
              "  .colab-df-quickchart:hover {\n",
              "    background-color: var(--hover-bg-color);\n",
              "    box-shadow: 0 1px 2px rgba(60, 64, 67, 0.3), 0 1px 3px 1px rgba(60, 64, 67, 0.15);\n",
              "    fill: var(--button-hover-fill-color);\n",
              "  }\n",
              "\n",
              "  .colab-df-quickchart-complete:disabled,\n",
              "  .colab-df-quickchart-complete:disabled:hover {\n",
              "    background-color: var(--disabled-bg-color);\n",
              "    fill: var(--disabled-fill-color);\n",
              "    box-shadow: none;\n",
              "  }\n",
              "\n",
              "  .colab-df-spinner {\n",
              "    border: 2px solid var(--fill-color);\n",
              "    border-color: transparent;\n",
              "    border-bottom-color: var(--fill-color);\n",
              "    animation:\n",
              "      spin 1s steps(1) infinite;\n",
              "  }\n",
              "\n",
              "  @keyframes spin {\n",
              "    0% {\n",
              "      border-color: transparent;\n",
              "      border-bottom-color: var(--fill-color);\n",
              "      border-left-color: var(--fill-color);\n",
              "    }\n",
              "    20% {\n",
              "      border-color: transparent;\n",
              "      border-left-color: var(--fill-color);\n",
              "      border-top-color: var(--fill-color);\n",
              "    }\n",
              "    30% {\n",
              "      border-color: transparent;\n",
              "      border-left-color: var(--fill-color);\n",
              "      border-top-color: var(--fill-color);\n",
              "      border-right-color: var(--fill-color);\n",
              "    }\n",
              "    40% {\n",
              "      border-color: transparent;\n",
              "      border-right-color: var(--fill-color);\n",
              "      border-top-color: var(--fill-color);\n",
              "    }\n",
              "    60% {\n",
              "      border-color: transparent;\n",
              "      border-right-color: var(--fill-color);\n",
              "    }\n",
              "    80% {\n",
              "      border-color: transparent;\n",
              "      border-right-color: var(--fill-color);\n",
              "      border-bottom-color: var(--fill-color);\n",
              "    }\n",
              "    90% {\n",
              "      border-color: transparent;\n",
              "      border-bottom-color: var(--fill-color);\n",
              "    }\n",
              "  }\n",
              "</style>\n",
              "\n",
              "      <script>\n",
              "        async function quickchart(key) {\n",
              "          const quickchartButtonEl =\n",
              "            document.querySelector('#' + key + ' button');\n",
              "          quickchartButtonEl.disabled = true;  // To prevent multiple clicks.\n",
              "          quickchartButtonEl.classList.add('colab-df-spinner');\n",
              "          try {\n",
              "            const charts = await google.colab.kernel.invokeFunction(\n",
              "                'suggestCharts', [key], {});\n",
              "          } catch (error) {\n",
              "            console.error('Error during call to suggestCharts:', error);\n",
              "          }\n",
              "          quickchartButtonEl.classList.remove('colab-df-spinner');\n",
              "          quickchartButtonEl.classList.add('colab-df-quickchart-complete');\n",
              "        }\n",
              "        (() => {\n",
              "          let quickchartButtonEl =\n",
              "            document.querySelector('#df-08ac6535-5b91-4d03-ae22-8cc1b4df220a button');\n",
              "          quickchartButtonEl.style.display =\n",
              "            google.colab.kernel.accessAllowed ? 'block' : 'none';\n",
              "        })();\n",
              "      </script>\n",
              "    </div>\n",
              "\n",
              "    </div>\n",
              "  </div>\n"
            ],
            "application/vnd.google.colaboratory.intrinsic+json": {
              "type": "dataframe",
              "summary": "{\n  \"name\": \"df\",\n  \"rows\": 8,\n  \"fields\": [\n    {\n      \"column\": \"sr_no\",\n      \"properties\": {\n        \"dtype\": \"number\",\n        \"std\": 923.5755828919409,\n        \"min\": 1.0,\n        \"max\": 2873.0,\n        \"num_unique_values\": 8,\n        \"samples\": [\n          1376.2090862157977,\n          2169.0,\n          1937.0\n        ],\n        \"semantic_type\": \"\",\n        \"description\": \"\"\n      }\n    },\n    {\n      \"column\": \"date_dd/mm/yyyy\",\n      \"properties\": {\n        \"dtype\": \"date\",\n        \"min\": \"1970-01-01 00:00:00.000001937\",\n        \"max\": \"2020-01-13 00:00:00\",\n        \"num_unique_values\": 7,\n        \"samples\": [\n          \"1937\",\n          \"2016-12-04 08:16:36.179659264\",\n          \"2017-10-03 00:00:00\"\n        ],\n        \"semantic_type\": \"\",\n        \"description\": \"\"\n      }\n    },\n    {\n      \"column\": \"amount_in_usd\",\n      \"properties\": {\n        \"dtype\": \"number\",\n        \"std\": 1370366204.4363272,\n        \"min\": 20.0,\n        \"max\": 3900000000.0,\n        \"num_unique_values\": 8,\n        \"samples\": [\n          23274171.9546825,\n          8000000.0,\n          1937.0\n        ],\n        \"semantic_type\": \"\",\n        \"description\": \"\"\n      }\n    },\n    {\n      \"column\": \"year\",\n      \"properties\": {\n        \"dtype\": \"number\",\n        \"std\": 709.0729623656752,\n        \"min\": 1.1928283999674325,\n        \"max\": 2020.0,\n        \"num_unique_values\": 7,\n        \"samples\": [\n          1937.0,\n          2016.4161073825503,\n          2020.0\n        ],\n        \"semantic_type\": \"\",\n        \"description\": \"\"\n      }\n    },\n    {\n      \"column\": \"month\",\n      \"properties\": {\n        \"dtype\": \"number\",\n        \"std\": 682.6707216925887,\n        \"min\": 1.0,\n        \"max\": 1937.0,\n        \"num_unique_values\": 8,\n        \"samples\": [\n          6.673722250903459,\n          9.0,\n          1937.0\n        ],\n        \"semantic_type\": \"\",\n        \"description\": \"\"\n      }\n    },\n    {\n      \"column\": \"day\",\n      \"properties\": {\n        \"dtype\": \"number\",\n        \"std\": 679.857407572183,\n        \"min\": 1.0,\n        \"max\": 1937.0,\n        \"num_unique_values\": 8,\n        \"samples\": [\n          15.03975219411461,\n          22.0,\n          1937.0\n        ],\n        \"semantic_type\": \"\",\n        \"description\": \"\"\n      }\n    },\n    {\n      \"column\": \"industry_encoded\",\n      \"properties\": {\n        \"dtype\": \"number\",\n        \"std\": 628.7516031786326,\n        \"min\": 0.0,\n        \"max\": 1937.0,\n        \"num_unique_values\": 8,\n        \"samples\": [\n          242.9050077439339,\n          421.0,\n          1937.0\n        ],\n        \"semantic_type\": \"\",\n        \"description\": \"\"\n      }\n    },\n    {\n      \"column\": \"investment_encoded\",\n      \"properties\": {\n        \"dtype\": \"number\",\n        \"std\": 678.781542962332,\n        \"min\": 0.0,\n        \"max\": 1937.0,\n        \"num_unique_values\": 7,\n        \"samples\": [\n          1937.0,\n          19.39132679401136,\n          43.0\n        ],\n        \"semantic_type\": \"\",\n        \"description\": \"\"\n      }\n    },\n    {\n      \"column\": \"city_encoded\",\n      \"properties\": {\n        \"dtype\": \"number\",\n        \"std\": 672.8997915055554,\n        \"min\": 0.0,\n        \"max\": 1937.0,\n        \"num_unique_values\": 8,\n        \"samples\": [\n          37.630356220960245,\n          53.0,\n          1937.0\n        ],\n        \"semantic_type\": \"\",\n        \"description\": \"\"\n      }\n    }\n  ]\n}"
            }
          },
          "metadata": {},
          "execution_count": 134
        }
      ]
    },
    {
      "cell_type": "code",
      "source": [
        "selected_features = ['industry_encoded', 'investment_encoded', 'city_encoded', 'year']\n",
        "X = df[selected_features]\n",
        "y = df['amount_in_usd']\n"
      ],
      "metadata": {
        "id": "ygf-pC4bRhvo"
      },
      "execution_count": 135,
      "outputs": []
    },
    {
      "cell_type": "code",
      "source": [
        "from sklearn.model_selection import train_test_split\n",
        "\n",
        "X_train, X_test, y_train, y_test = train_test_split(X, y, test_size=0.2, random_state=42)\n"
      ],
      "metadata": {
        "id": "alTnRXx_Rp9v"
      },
      "execution_count": 136,
      "outputs": []
    },
    {
      "cell_type": "code",
      "source": [
        "from sklearn.neighbors import KNeighborsRegressor\n",
        "\n",
        "knn = KNeighborsRegressor(n_neighbors=5)\n",
        "knn.fit(X_train, y_train)\n",
        "\n",
        "y_pred_knn = knn.predict(X_test)\n",
        "\n",
        "print(\"KNN R²:\", r2_score(y_test, y_pred_knn))\n",
        "print(\"KNN MSE:\", mean_squared_error(y_test, y_pred_knn))\n"
      ],
      "metadata": {
        "colab": {
          "base_uri": "https://localhost:8080/"
        },
        "id": "KrGH2GxIRvQ0",
        "outputId": "07cbfa1c-489e-4990-e40f-ee142204f4da"
      },
      "execution_count": 137,
      "outputs": [
        {
          "output_type": "stream",
          "name": "stdout",
          "text": [
            "KNN R²: 0.492374501982626\n",
            "KNN MSE: 1.2680657649995734e+16\n"
          ]
        }
      ]
    },
    {
      "cell_type": "code",
      "source": [
        "importance = lr.coef_\n",
        "for i, col in enumerate(selected_features):\n",
        "    print(f\"{col}: {importance[i]}\")\n"
      ],
      "metadata": {
        "colab": {
          "base_uri": "https://localhost:8080/"
        },
        "id": "yHOhtqp1R1n7",
        "outputId": "565afad3-0680-4e8b-bd8b-578e2d701f93"
      },
      "execution_count": 138,
      "outputs": [
        {
          "output_type": "stream",
          "name": "stdout",
          "text": [
            "industry_encoded: -17491.106473995664\n",
            "investment_encoded: -478815.69605231006\n",
            "city_encoded: -560434.3130328897\n",
            "year: 7532636.331525333\n"
          ]
        }
      ]
    },
    {
      "cell_type": "code",
      "source": [
        "# Define High vs Low Funding\n",
        "threshold = df['amount_in_usd'].median()\n",
        "\n",
        "df['funding_status'] = df['amount_in_usd'].apply(lambda x: 1 if x >= threshold else 0)  # 1 = High, 0 = Low\n"
      ],
      "metadata": {
        "id": "HBKG2l1HR471"
      },
      "execution_count": 139,
      "outputs": []
    },
    {
      "cell_type": "code",
      "source": [
        "from sklearn.model_selection import train_test_split\n",
        "\n",
        "X = df[['industry_encoded', 'investment_encoded', 'city_encoded', 'year']]\n",
        "y = df['funding_status']  # Now a binary classification target\n",
        "\n",
        "X_train, X_test, y_train, y_test = train_test_split(X, y, test_size=0.2, random_state=42)\n"
      ],
      "metadata": {
        "id": "UekxHw5ySA-x"
      },
      "execution_count": 140,
      "outputs": []
    },
    {
      "cell_type": "code",
      "source": [
        "# Confusion Matrix\n",
        "cm = confusion_matrix(y_test, y_pred)\n",
        "print(\"Confusion Matrix:\\n\", cm)\n",
        "\n",
        "# Classification Report (includes precision, recall, f1)\n",
        "print(\"\\nClassification Report:\\n\", classification_report(y_test, y_pred))\n",
        "\n",
        "# Accuracy\n",
        "print(\"Accuracy Score:\", accuracy_score(y_test, y_pred))\n"
      ],
      "metadata": {
        "colab": {
          "base_uri": "https://localhost:8080/"
        },
        "id": "ZvRvUXWVSH0f",
        "outputId": "493b0c95-526e-40f2-c80c-6292ac27db8e"
      },
      "execution_count": 141,
      "outputs": [
        {
          "output_type": "stream",
          "name": "stdout",
          "text": [
            "Confusion Matrix:\n",
            " [[187   0]\n",
            " [201   0]]\n",
            "\n",
            "Classification Report:\n",
            "               precision    recall  f1-score   support\n",
            "\n",
            "           0       0.48      1.00      0.65       187\n",
            "           1       0.00      0.00      0.00       201\n",
            "\n",
            "    accuracy                           0.48       388\n",
            "   macro avg       0.24      0.50      0.33       388\n",
            "weighted avg       0.23      0.48      0.31       388\n",
            "\n",
            "Accuracy Score: 0.48195876288659795\n"
          ]
        },
        {
          "output_type": "stream",
          "name": "stderr",
          "text": [
            "/usr/local/lib/python3.11/dist-packages/sklearn/metrics/_classification.py:1565: UndefinedMetricWarning: Precision is ill-defined and being set to 0.0 in labels with no predicted samples. Use `zero_division` parameter to control this behavior.\n",
            "  _warn_prf(average, modifier, f\"{metric.capitalize()} is\", len(result))\n",
            "/usr/local/lib/python3.11/dist-packages/sklearn/metrics/_classification.py:1565: UndefinedMetricWarning: Precision is ill-defined and being set to 0.0 in labels with no predicted samples. Use `zero_division` parameter to control this behavior.\n",
            "  _warn_prf(average, modifier, f\"{metric.capitalize()} is\", len(result))\n",
            "/usr/local/lib/python3.11/dist-packages/sklearn/metrics/_classification.py:1565: UndefinedMetricWarning: Precision is ill-defined and being set to 0.0 in labels with no predicted samples. Use `zero_division` parameter to control this behavior.\n",
            "  _warn_prf(average, modifier, f\"{metric.capitalize()} is\", len(result))\n"
          ]
        }
      ]
    },
    {
      "cell_type": "code",
      "source": [
        "from sklearn.metrics import confusion_matrix, ConfusionMatrixDisplay\n",
        "\n",
        "cm = confusion_matrix(y_test, y_pred)  # replace with y_pred1 or y_pred2 for other models\n",
        "disp = ConfusionMatrixDisplay(confusion_matrix=cm)\n",
        "disp.plot()"
      ],
      "metadata": {
        "colab": {
          "base_uri": "https://localhost:8080/",
          "height": 471
        },
        "id": "nTfdiVvkSKyb",
        "outputId": "2fd6e083-74ef-4d68-a4a7-903a28b3bb75"
      },
      "execution_count": 142,
      "outputs": [
        {
          "output_type": "execute_result",
          "data": {
            "text/plain": [
              "<sklearn.metrics._plot.confusion_matrix.ConfusionMatrixDisplay at 0x7de2b39e7010>"
            ]
          },
          "metadata": {},
          "execution_count": 142
        },
        {
          "output_type": "display_data",
          "data": {
            "text/plain": [
              "<Figure size 640x480 with 2 Axes>"
            ],
            "image/png": "[encoded data removed]"
          },
          "metadata": {}
        }
      ]
    },
    {
      "cell_type": "code",
      "source": [
        "import pickle\n",
        "\n",
        "# Save KNN\n",
        "with open('knn_model.pkl', 'wb') as f:\n",
        "    pickle.dump(knn, f)"
      ],
      "metadata": {
        "id": "6JR2nUx3SZ9I"
      },
      "execution_count": 143,
      "outputs": []
    },
    {
      "cell_type": "code",
      "source": [
        "from sklearn.metrics import roc_curve, auc\n",
        "import matplotlib.pyplot as plt\n",
        "from sklearn.svm import SVC\n",
        "from sklearn.neighbors import KNeighborsClassifier # Import KNeighborsClassifier\n",
        "\n",
        "# Train a KNeighborsClassifier model\n",
        "knn_classifier = KNeighborsClassifier(n_neighbors=5)\n",
        "knn_classifier.fit(X_train, y_train)\n",
        "\n",
        "\n",
        "# Predict probabilities (for ROC only models that support predict_proba)\n",
        "y_proba_knn = knn_classifier.predict_proba(X_test)[:,1]\n",
        "\n",
        "# For SVM, use decision_function (if not using SVC with probability=True)\n",
        "model3 = SVC(kernel='rbf', probability=True)\n",
        "model3.fit(X_train, y_train)\n",
        "y_proba_svm = model3.predict_proba(X_test)[:, 1]\n",
        "\n",
        "fpr_knn, tpr_knn, _ = roc_curve(y_test, y_proba_knn)\n",
        "fpr_svm, tpr_svm, _ = roc_curve(y_test, y_proba_svm)\n",
        "\n",
        "# Plot\n",
        "plt.figure(figsize=(8,6))\n",
        "plt.plot(fpr_knn, tpr_knn, label='KNN Classifier') # Changed label\n",
        "plt.plot(fpr_svm, tpr_svm, label='SVM')\n",
        "plt.plot([0, 1], [0, 1], 'k--')\n",
        "plt.xlabel('False Positive Rate')\n",
        "plt.ylabel('True Positive Rate')\n",
        "plt.title('ROC Curve Comparison')\n",
        "plt.legend()\n",
        "plt.grid()\n",
        "plt.show()"
      ],
      "metadata": {
        "colab": {
          "base_uri": "https://localhost:8080/",
          "height": 564
        },
        "id": "Zfu6v7vlStq7",
        "outputId": "081a22f2-6724-4aea-dd19-b8e3870add5d"
      },
      "execution_count": 144,
      "outputs": [
        {
          "output_type": "display_data",
          "data": {
            "text/plain": [
              "<Figure size 800x600 with 1 Axes>"
            ],
            "image/png": "[encoded data removed]"
          },
          "metadata": {}
        }
      ]
    },
    {
      "cell_type": "code",
      "source": [
        "import pandas as pd\n",
        "\n",
        "# Sample cleaned data\n",
        "data = {\n",
        "    'Industry': ['Fintech', 'E-Commerce', 'HealthTech', 'AI', 'EdTech', 'Fintech'],\n",
        "    'Investment Type': ['Seed', 'Series A', 'Angel', 'Seed', 'Series A', 'Angel'],\n",
        "    'City': ['Delhi', 'Mumbai', 'Bangalore', 'Delhi', 'Mumbai', 'Bangalore'],\n",
        "    'Funding Amount': [500000, 2000000, 300000, 700000, 1500000, 400000]\n",
        "}\n",
        "\n",
        "# Create DataFrame\n",
        "df = pd.DataFrame(data)\n",
        "\n",
        "# Save as Cleaned_data.csv\n",
        "df.to_csv('Cleaned_data.csv', index=False)\n",
        "\n",
        "print(\"✅ Cleaned_data.csv created successfully!\")\n"
      ],
      "metadata": {
        "id": "4ZP5VlzpvLON",
        "outputId": "599b6739-2da5-43c2-a3cb-9508c2d2f462",
        "colab": {
          "base_uri": "https://localhost:8080/"
        }
      },
      "execution_count": 145,
      "outputs": [
        {
          "output_type": "stream",
          "name": "stdout",
          "text": [
            "✅ Cleaned_data.csv created successfully!\n"
          ]
        }
      ]
    },
    {
      "cell_type": "code",
      "source": [
        "import pandas as pd\n",
        "import numpy as np\n",
        "import pickle\n",
        "from sklearn.preprocessing import LabelEncoder\n",
        "from sklearn.neighbors import KNeighborsRegressor\n",
        "\n",
        "# ✅ Define full 12 options for each category\n",
        "industries = ['Technology', 'Healthcare', 'Education', 'Finance',\n",
        "              'E-commerce', 'Real Estate', 'Travel', 'Gaming',\n",
        "              'Food & Beverage', 'Logistics', 'Agriculture', 'Media']\n",
        "\n",
        "investment_types = ['Seed Funding', 'Series A', 'Series B', 'Series C',\n",
        "                    'Pre-Seed', 'Angel Investment', 'Venture Round',\n",
        "                    'Private Equity', 'Debt Financing', 'Convertible Note',\n",
        "                    'Crowdfunding', 'Incubation Grant']\n",
        "\n",
        "cities = ['Bangalore', 'Mumbai', 'Delhi', 'Hyderabad', 'Chennai', 'Pune',\n",
        "          'Gurgaon', 'Kolkata', 'Ahmedabad', 'Noida', 'Jaipur', 'Indore']\n",
        "\n",
        "# ✅ Generate dummy data (144 samples = 12x12 combinations)\n",
        "np.random.seed(42)\n",
        "data = {\n",
        "    'industry': np.random.choice(industries, 144),\n",
        "    'investment_type': np.random.choice(investment_types, 144),\n",
        "    'city': np.random.choice(cities, 144),\n",
        "    'funding_amount': np.random.randint(100000, 5000000, 144)\n",
        "}\n",
        "\n",
        "df = pd.DataFrame(data)\n",
        "\n",
        "# ✅ Label encode the categorical variables\n",
        "industry_encoder = LabelEncoder()\n",
        "investment_encoder = LabelEncoder()\n",
        "city_encoder = LabelEncoder()\n",
        "\n",
        "df['industry_encoded'] = industry_encoder.fit_transform(df['industry'])\n",
        "df['investment_encoded'] = investment_encoder.fit_transform(df['investment_type'])\n",
        "df['city_encoded'] = city_encoder.fit_transform(df['city'])\n",
        "\n",
        "X = df[['industry_encoded', 'investment_encoded', 'city_encoded']]\n",
        "y = df['funding_amount']\n",
        "\n",
        "# ✅ Train the KNN model\n",
        "model = KNeighborsRegressor(n_neighbors=5)\n",
        "model.fit(X, y)\n",
        "\n",
        "# ✅ Save the model and encoders\n",
        "with open('knn_model.pkl', 'wb') as f:\n",
        "    pickle.dump(model, f)\n",
        "\n",
        "with open('industry_encoder.pkl', 'wb') as f:\n",
        "    pickle.dump(industry_encoder, f)\n",
        "\n",
        "with open('investment_encoder.pkl', 'wb') as f:\n",
        "    pickle.dump(investment_encoder, f)\n",
        "\n",
        "with open('city_encoder.pkl', 'wb') as f:\n",
        "    pickle.dump(city_encoder, f)\n",
        "\n",
        "print(\"✅ Model and encoders saved successfully.\")\n"
      ],
      "metadata": {
        "colab": {
          "base_uri": "https://localhost:8080/"
        },
        "id": "jOL0sjS-XeTD",
        "outputId": "8545dff6-8568-4d3d-e767-a51ee0131f76"
      },
      "execution_count": 146,
      "outputs": [
        {
          "output_type": "stream",
          "name": "stdout",
          "text": [
            "✅ Model and encoders saved successfully.\n"
          ]
        }
      ]
    }
  ]
}